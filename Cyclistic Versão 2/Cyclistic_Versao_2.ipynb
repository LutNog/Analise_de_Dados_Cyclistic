{
 "cells": [
  {
   "cell_type": "markdown",
   "id": "773dc416-e80f-4972-8b85-ae3791e91199",
   "metadata": {},
   "source": [
    "# Análise de Dados Cyclistic"
   ]
  },
  {
   "cell_type": "code",
   "execution_count": 2,
   "id": "8d3dbdb9",
   "metadata": {},
   "outputs": [],
   "source": [
    "import pandas as pd\n",
    "import numpy as np\n",
    "import matplotlib.pyplot as plt\n",
    "import seaborn as sns"
   ]
  },
  {
   "cell_type": "code",
   "execution_count": 3,
   "id": "78ffdc23",
   "metadata": {},
   "outputs": [],
   "source": [
    "# Listando os nomes dos arquivos\n",
    "arquivos = ['2021-10-Cyclistic - Part 1.xlsx', '2021-10-Cyclistic - Part 2.xlsx', '2021-11-Cyclistic.xlsx', \n",
    "            '2021-12-Cyclistic.xlsx', '2022-01-Cyclistic.xlsx', '2022-02-Cyclistic.xlsx', '2022-03-Cyclistic.xlsx',\n",
    "           '2022-04-Cyclistic.xlsx', '2022-05-Cyclistic.xlsx', '2022-06-Cyclistic.xlsx', '2022-07-Cyclistic - Part 1.xlsx',\n",
    "           '2022-07-Cyclistic - Part 2.xlsx', '2022-08-Cyclistic.xlsx', '2022-09-Cyclistic.xlsx']"
   ]
  },
  {
   "cell_type": "code",
   "execution_count": 4,
   "id": "c4f5ac9a",
   "metadata": {},
   "outputs": [],
   "source": [
    "# Carregando os arquivos em Loop\n",
    "dataframes = []\n",
    "\n",
    "for arquivo in arquivos:\n",
    "    df = pd.read_excel(arquivo)\n",
    "    dataframes.append(df)"
   ]
  },
  {
   "cell_type": "code",
   "execution_count": 5,
   "id": "4a4294f1",
   "metadata": {},
   "outputs": [],
   "source": [
    "# Concatenando\n",
    "dataset = pd.concat(dataframes, ignore_index=True)"
   ]
  },
  {
   "cell_type": "markdown",
   "id": "2e756f62",
   "metadata": {},
   "source": [
    "## Análise Exploratória"
   ]
  },
  {
   "cell_type": "code",
   "execution_count": 6,
   "id": "5b3c6342",
   "metadata": {},
   "outputs": [
    {
     "data": {
      "text/plain": [
       "(5828176, 15)"
      ]
     },
     "execution_count": 6,
     "metadata": {},
     "output_type": "execute_result"
    }
   ],
   "source": [
    "# Shape\n",
    "dataset.shape"
   ]
  },
  {
   "cell_type": "code",
   "execution_count": 6,
   "id": "3b43a4ee",
   "metadata": {},
   "outputs": [
    {
     "data": {
      "text/html": [
       "<div>\n",
       "<style scoped>\n",
       "    .dataframe tbody tr th:only-of-type {\n",
       "        vertical-align: middle;\n",
       "    }\n",
       "\n",
       "    .dataframe tbody tr th {\n",
       "        vertical-align: top;\n",
       "    }\n",
       "\n",
       "    .dataframe thead th {\n",
       "        text-align: right;\n",
       "    }\n",
       "</style>\n",
       "<table border=\"1\" class=\"dataframe\">\n",
       "  <thead>\n",
       "    <tr style=\"text-align: right;\">\n",
       "      <th></th>\n",
       "      <th>ride_id</th>\n",
       "      <th>rideable_type</th>\n",
       "      <th>started_at</th>\n",
       "      <th>ended_at</th>\n",
       "      <th>duracao_passeio</th>\n",
       "      <th>dia_da_semana</th>\n",
       "      <th>start_station_name</th>\n",
       "      <th>start_station_id</th>\n",
       "      <th>end_station_name</th>\n",
       "      <th>end_station_id</th>\n",
       "      <th>start_lat</th>\n",
       "      <th>start_lng</th>\n",
       "      <th>end_lat</th>\n",
       "      <th>end_lng</th>\n",
       "      <th>member_casual</th>\n",
       "    </tr>\n",
       "  </thead>\n",
       "  <tbody>\n",
       "    <tr>\n",
       "      <th>0</th>\n",
       "      <td>620BC6107255BF4C</td>\n",
       "      <td>electric_bike</td>\n",
       "      <td>2021-10-22 12:46:42</td>\n",
       "      <td>2021-10-22 12:49:50</td>\n",
       "      <td>00:03:08</td>\n",
       "      <td>6</td>\n",
       "      <td>Kingsbury St &amp; Kinzie St</td>\n",
       "      <td>KA1503000043</td>\n",
       "      <td>NaN</td>\n",
       "      <td>NaN</td>\n",
       "      <td>4.188919e+16</td>\n",
       "      <td>-8.763850e+15</td>\n",
       "      <td>41.89</td>\n",
       "      <td>-87.63</td>\n",
       "      <td>member</td>\n",
       "    </tr>\n",
       "    <tr>\n",
       "      <th>1</th>\n",
       "      <td>4471C70731AB2E45</td>\n",
       "      <td>electric_bike</td>\n",
       "      <td>2021-10-21 09:12:37</td>\n",
       "      <td>2021-10-21 09:14:14</td>\n",
       "      <td>00:01:37</td>\n",
       "      <td>5</td>\n",
       "      <td>NaN</td>\n",
       "      <td>NaN</td>\n",
       "      <td>NaN</td>\n",
       "      <td>NaN</td>\n",
       "      <td>4.193000e+01</td>\n",
       "      <td>-8.770000e+01</td>\n",
       "      <td>41.93</td>\n",
       "      <td>-87.71</td>\n",
       "      <td>member</td>\n",
       "    </tr>\n",
       "    <tr>\n",
       "      <th>2</th>\n",
       "      <td>26CA69D43D15EE14</td>\n",
       "      <td>electric_bike</td>\n",
       "      <td>2021-10-16 16:28:39</td>\n",
       "      <td>2021-10-16 16:36:26</td>\n",
       "      <td>00:07:47</td>\n",
       "      <td>7</td>\n",
       "      <td>NaN</td>\n",
       "      <td>NaN</td>\n",
       "      <td>NaN</td>\n",
       "      <td>NaN</td>\n",
       "      <td>4.192000e+01</td>\n",
       "      <td>-8.770000e+01</td>\n",
       "      <td>41.94</td>\n",
       "      <td>-87.72</td>\n",
       "      <td>member</td>\n",
       "    </tr>\n",
       "    <tr>\n",
       "      <th>3</th>\n",
       "      <td>362947F0437E1514</td>\n",
       "      <td>electric_bike</td>\n",
       "      <td>2021-10-16 16:17:48</td>\n",
       "      <td>2021-10-16 16:19:03</td>\n",
       "      <td>00:01:15</td>\n",
       "      <td>7</td>\n",
       "      <td>NaN</td>\n",
       "      <td>NaN</td>\n",
       "      <td>NaN</td>\n",
       "      <td>NaN</td>\n",
       "      <td>4.192000e+01</td>\n",
       "      <td>-8.769000e+01</td>\n",
       "      <td>41.92</td>\n",
       "      <td>-87.69</td>\n",
       "      <td>member</td>\n",
       "    </tr>\n",
       "    <tr>\n",
       "      <th>4</th>\n",
       "      <td>BB731DE2F2EC51C5</td>\n",
       "      <td>electric_bike</td>\n",
       "      <td>2021-10-20 23:17:54</td>\n",
       "      <td>2021-10-20 23:26:10</td>\n",
       "      <td>00:08:16</td>\n",
       "      <td>4</td>\n",
       "      <td>NaN</td>\n",
       "      <td>NaN</td>\n",
       "      <td>NaN</td>\n",
       "      <td>NaN</td>\n",
       "      <td>4.189000e+01</td>\n",
       "      <td>-8.771000e+01</td>\n",
       "      <td>41.89</td>\n",
       "      <td>-87.69</td>\n",
       "      <td>member</td>\n",
       "    </tr>\n",
       "  </tbody>\n",
       "</table>\n",
       "</div>"
      ],
      "text/plain": [
       "            ride_id  rideable_type          started_at            ended_at  \\\n",
       "0  620BC6107255BF4C  electric_bike 2021-10-22 12:46:42 2021-10-22 12:49:50   \n",
       "1  4471C70731AB2E45  electric_bike 2021-10-21 09:12:37 2021-10-21 09:14:14   \n",
       "2  26CA69D43D15EE14  electric_bike 2021-10-16 16:28:39 2021-10-16 16:36:26   \n",
       "3  362947F0437E1514  electric_bike 2021-10-16 16:17:48 2021-10-16 16:19:03   \n",
       "4  BB731DE2F2EC51C5  electric_bike 2021-10-20 23:17:54 2021-10-20 23:26:10   \n",
       "\n",
       "  duracao_passeio  dia_da_semana        start_station_name start_station_id  \\\n",
       "0        00:03:08              6  Kingsbury St & Kinzie St     KA1503000043   \n",
       "1        00:01:37              5                       NaN              NaN   \n",
       "2        00:07:47              7                       NaN              NaN   \n",
       "3        00:01:15              7                       NaN              NaN   \n",
       "4        00:08:16              4                       NaN              NaN   \n",
       "\n",
       "  end_station_name end_station_id     start_lat     start_lng  end_lat  \\\n",
       "0              NaN            NaN  4.188919e+16 -8.763850e+15    41.89   \n",
       "1              NaN            NaN  4.193000e+01 -8.770000e+01    41.93   \n",
       "2              NaN            NaN  4.192000e+01 -8.770000e+01    41.94   \n",
       "3              NaN            NaN  4.192000e+01 -8.769000e+01    41.92   \n",
       "4              NaN            NaN  4.189000e+01 -8.771000e+01    41.89   \n",
       "\n",
       "   end_lng member_casual  \n",
       "0   -87.63        member  \n",
       "1   -87.71        member  \n",
       "2   -87.72        member  \n",
       "3   -87.69        member  \n",
       "4   -87.69        member  "
      ]
     },
     "execution_count": 6,
     "metadata": {},
     "output_type": "execute_result"
    }
   ],
   "source": [
    "dataset.head()"
   ]
  },
  {
   "cell_type": "code",
   "execution_count": 7,
   "id": "96692337",
   "metadata": {},
   "outputs": [
    {
     "data": {
      "text/html": [
       "<div>\n",
       "<style scoped>\n",
       "    .dataframe tbody tr th:only-of-type {\n",
       "        vertical-align: middle;\n",
       "    }\n",
       "\n",
       "    .dataframe tbody tr th {\n",
       "        vertical-align: top;\n",
       "    }\n",
       "\n",
       "    .dataframe thead th {\n",
       "        text-align: right;\n",
       "    }\n",
       "</style>\n",
       "<table border=\"1\" class=\"dataframe\">\n",
       "  <thead>\n",
       "    <tr style=\"text-align: right;\">\n",
       "      <th></th>\n",
       "      <th>ride_id</th>\n",
       "      <th>rideable_type</th>\n",
       "      <th>started_at</th>\n",
       "      <th>ended_at</th>\n",
       "      <th>duracao_passeio</th>\n",
       "      <th>dia_da_semana</th>\n",
       "      <th>start_station_name</th>\n",
       "      <th>start_station_id</th>\n",
       "      <th>end_station_name</th>\n",
       "      <th>end_station_id</th>\n",
       "      <th>start_lat</th>\n",
       "      <th>start_lng</th>\n",
       "      <th>end_lat</th>\n",
       "      <th>end_lng</th>\n",
       "      <th>member_casual</th>\n",
       "    </tr>\n",
       "  </thead>\n",
       "  <tbody>\n",
       "    <tr>\n",
       "      <th>3881479</th>\n",
       "      <td>50250F724703F9EB</td>\n",
       "      <td>classic_bike</td>\n",
       "      <td>2022-07-20 09:12:01</td>\n",
       "      <td>2022-07-20 09:13:30</td>\n",
       "      <td>00:01:29</td>\n",
       "      <td>4</td>\n",
       "      <td>Wacker Dr &amp; Washington St</td>\n",
       "      <td>KA1503000072</td>\n",
       "      <td>Canal St &amp; Monroe St</td>\n",
       "      <td>13056</td>\n",
       "      <td>4.188314e+15</td>\n",
       "      <td>-8.763724e+15</td>\n",
       "      <td>4.188169e+06</td>\n",
       "      <td>-8.763953e+06</td>\n",
       "      <td>member</td>\n",
       "    </tr>\n",
       "    <tr>\n",
       "      <th>5702299</th>\n",
       "      <td>9F3BBE4843002E46</td>\n",
       "      <td>electric_bike</td>\n",
       "      <td>2022-09-10 01:37:43</td>\n",
       "      <td>2022-09-10 02:06:34</td>\n",
       "      <td>00:28:51</td>\n",
       "      <td>7</td>\n",
       "      <td>Columbus Dr &amp; Randolph St</td>\n",
       "      <td>13263</td>\n",
       "      <td>Desplaines St &amp; Jackson Blvd</td>\n",
       "      <td>15539</td>\n",
       "      <td>4.188456e+07</td>\n",
       "      <td>-8.761940e+15</td>\n",
       "      <td>4.187812e+15</td>\n",
       "      <td>-8.764395e+15</td>\n",
       "      <td>casual</td>\n",
       "    </tr>\n",
       "    <tr>\n",
       "      <th>1766901</th>\n",
       "      <td>08DB9B483480D64C</td>\n",
       "      <td>classic_bike</td>\n",
       "      <td>2022-04-15 13:00:16</td>\n",
       "      <td>2022-04-15 13:05:13</td>\n",
       "      <td>00:04:57</td>\n",
       "      <td>6</td>\n",
       "      <td>LaSalle St &amp; Illinois St</td>\n",
       "      <td>13430</td>\n",
       "      <td>Milwaukee Ave &amp; Grand Ave</td>\n",
       "      <td>13033</td>\n",
       "      <td>4.189076e+07</td>\n",
       "      <td>-8.763170e+07</td>\n",
       "      <td>4.189158e+07</td>\n",
       "      <td>-8.764838e+07</td>\n",
       "      <td>member</td>\n",
       "    </tr>\n",
       "    <tr>\n",
       "      <th>1312315</th>\n",
       "      <td>F005FACF24610457</td>\n",
       "      <td>classic_bike</td>\n",
       "      <td>2022-01-12 10:35:29</td>\n",
       "      <td>2022-01-12 10:58:21</td>\n",
       "      <td>00:22:52</td>\n",
       "      <td>4</td>\n",
       "      <td>Clark St &amp; Wrightwood Ave</td>\n",
       "      <td>TA1305000014</td>\n",
       "      <td>Fairbanks St &amp; Superior St</td>\n",
       "      <td>18003</td>\n",
       "      <td>4.192955e+07</td>\n",
       "      <td>-8.764312e+07</td>\n",
       "      <td>4.189575e+07</td>\n",
       "      <td>-8.762010e+07</td>\n",
       "      <td>member</td>\n",
       "    </tr>\n",
       "    <tr>\n",
       "      <th>3959225</th>\n",
       "      <td>F5F66717F35162C9</td>\n",
       "      <td>electric_bike</td>\n",
       "      <td>2022-07-07 17:56:13</td>\n",
       "      <td>2022-07-07 18:01:47</td>\n",
       "      <td>00:05:34</td>\n",
       "      <td>5</td>\n",
       "      <td>NaN</td>\n",
       "      <td>NaN</td>\n",
       "      <td>NaN</td>\n",
       "      <td>NaN</td>\n",
       "      <td>4.190000e+01</td>\n",
       "      <td>-8.763000e+01</td>\n",
       "      <td>4.192000e+01</td>\n",
       "      <td>-8.763000e+01</td>\n",
       "      <td>member</td>\n",
       "    </tr>\n",
       "    <tr>\n",
       "      <th>5772703</th>\n",
       "      <td>19C1F3840C7CE43B</td>\n",
       "      <td>electric_bike</td>\n",
       "      <td>2022-09-21 00:29:23</td>\n",
       "      <td>2022-09-21 00:53:34</td>\n",
       "      <td>00:24:11</td>\n",
       "      <td>4</td>\n",
       "      <td>NaN</td>\n",
       "      <td>NaN</td>\n",
       "      <td>Wilton Ave &amp; Belmont Ave</td>\n",
       "      <td>TA1307000134</td>\n",
       "      <td>4.186000e+01</td>\n",
       "      <td>-8.764000e+01</td>\n",
       "      <td>4.194023e+16</td>\n",
       "      <td>-8.765294e+15</td>\n",
       "      <td>casual</td>\n",
       "    </tr>\n",
       "    <tr>\n",
       "      <th>2471807</th>\n",
       "      <td>79DFA5C8BC470894</td>\n",
       "      <td>classic_bike</td>\n",
       "      <td>2022-05-29 23:57:42</td>\n",
       "      <td>2022-05-30 00:19:42</td>\n",
       "      <td>00:22:00</td>\n",
       "      <td>1</td>\n",
       "      <td>Adler Planetarium</td>\n",
       "      <td>13431</td>\n",
       "      <td>Fairbanks Ct &amp; Grand Ave</td>\n",
       "      <td>TA1305000003</td>\n",
       "      <td>4.186610e+07</td>\n",
       "      <td>-8.760727e+07</td>\n",
       "      <td>4.189185e+15</td>\n",
       "      <td>-8.762058e+15</td>\n",
       "      <td>casual</td>\n",
       "    </tr>\n",
       "    <tr>\n",
       "      <th>2349657</th>\n",
       "      <td>2E76FA90394DE4CF</td>\n",
       "      <td>electric_bike</td>\n",
       "      <td>2022-05-22 15:17:39</td>\n",
       "      <td>2022-05-22 16:42:40</td>\n",
       "      <td>01:25:01</td>\n",
       "      <td>1</td>\n",
       "      <td>Yates Blvd &amp; 93rd St</td>\n",
       "      <td>20237</td>\n",
       "      <td>NaN</td>\n",
       "      <td>NaN</td>\n",
       "      <td>4.172616e+15</td>\n",
       "      <td>-8.756639e+15</td>\n",
       "      <td>4.190000e+01</td>\n",
       "      <td>-8.763000e+01</td>\n",
       "      <td>casual</td>\n",
       "    </tr>\n",
       "    <tr>\n",
       "      <th>2529770</th>\n",
       "      <td>7119400AA19174E5</td>\n",
       "      <td>classic_bike</td>\n",
       "      <td>2022-05-13 18:36:55</td>\n",
       "      <td>2022-05-13 18:43:56</td>\n",
       "      <td>00:07:01</td>\n",
       "      <td>6</td>\n",
       "      <td>Broadway &amp; Cornelia Ave</td>\n",
       "      <td>13278</td>\n",
       "      <td>Clarendon Ave &amp; Gordon Ter</td>\n",
       "      <td>13379</td>\n",
       "      <td>4.194553e+07</td>\n",
       "      <td>-8.764644e+07</td>\n",
       "      <td>4.195787e+15</td>\n",
       "      <td>-8.764951e+15</td>\n",
       "      <td>member</td>\n",
       "    </tr>\n",
       "    <tr>\n",
       "      <th>2525078</th>\n",
       "      <td>A82F5E0BD7ABCC7D</td>\n",
       "      <td>electric_bike</td>\n",
       "      <td>2022-05-22 19:48:15</td>\n",
       "      <td>2022-05-22 20:08:15</td>\n",
       "      <td>00:20:00</td>\n",
       "      <td>1</td>\n",
       "      <td>DuSable Lake Shore Dr &amp; Monroe St</td>\n",
       "      <td>13300</td>\n",
       "      <td>State St &amp; Kinzie St</td>\n",
       "      <td>13050</td>\n",
       "      <td>4.188102e+07</td>\n",
       "      <td>-8.761675e+15</td>\n",
       "      <td>4.188938e+16</td>\n",
       "      <td>-8.762708e+15</td>\n",
       "      <td>casual</td>\n",
       "    </tr>\n",
       "  </tbody>\n",
       "</table>\n",
       "</div>"
      ],
      "text/plain": [
       "                  ride_id  rideable_type          started_at  \\\n",
       "3881479  50250F724703F9EB   classic_bike 2022-07-20 09:12:01   \n",
       "5702299  9F3BBE4843002E46  electric_bike 2022-09-10 01:37:43   \n",
       "1766901  08DB9B483480D64C   classic_bike 2022-04-15 13:00:16   \n",
       "1312315  F005FACF24610457   classic_bike 2022-01-12 10:35:29   \n",
       "3959225  F5F66717F35162C9  electric_bike 2022-07-07 17:56:13   \n",
       "5772703  19C1F3840C7CE43B  electric_bike 2022-09-21 00:29:23   \n",
       "2471807  79DFA5C8BC470894   classic_bike 2022-05-29 23:57:42   \n",
       "2349657  2E76FA90394DE4CF  electric_bike 2022-05-22 15:17:39   \n",
       "2529770  7119400AA19174E5   classic_bike 2022-05-13 18:36:55   \n",
       "2525078  A82F5E0BD7ABCC7D  electric_bike 2022-05-22 19:48:15   \n",
       "\n",
       "                   ended_at duracao_passeio  dia_da_semana  \\\n",
       "3881479 2022-07-20 09:13:30        00:01:29              4   \n",
       "5702299 2022-09-10 02:06:34        00:28:51              7   \n",
       "1766901 2022-04-15 13:05:13        00:04:57              6   \n",
       "1312315 2022-01-12 10:58:21        00:22:52              4   \n",
       "3959225 2022-07-07 18:01:47        00:05:34              5   \n",
       "5772703 2022-09-21 00:53:34        00:24:11              4   \n",
       "2471807 2022-05-30 00:19:42        00:22:00              1   \n",
       "2349657 2022-05-22 16:42:40        01:25:01              1   \n",
       "2529770 2022-05-13 18:43:56        00:07:01              6   \n",
       "2525078 2022-05-22 20:08:15        00:20:00              1   \n",
       "\n",
       "                        start_station_name start_station_id  \\\n",
       "3881479          Wacker Dr & Washington St     KA1503000072   \n",
       "5702299          Columbus Dr & Randolph St            13263   \n",
       "1766901           LaSalle St & Illinois St            13430   \n",
       "1312315          Clark St & Wrightwood Ave     TA1305000014   \n",
       "3959225                                NaN              NaN   \n",
       "5772703                                NaN              NaN   \n",
       "2471807                  Adler Planetarium            13431   \n",
       "2349657               Yates Blvd & 93rd St            20237   \n",
       "2529770            Broadway & Cornelia Ave            13278   \n",
       "2525078  DuSable Lake Shore Dr & Monroe St            13300   \n",
       "\n",
       "                     end_station_name end_station_id     start_lat  \\\n",
       "3881479          Canal St & Monroe St          13056  4.188314e+15   \n",
       "5702299  Desplaines St & Jackson Blvd          15539  4.188456e+07   \n",
       "1766901     Milwaukee Ave & Grand Ave          13033  4.189076e+07   \n",
       "1312315    Fairbanks St & Superior St          18003  4.192955e+07   \n",
       "3959225                           NaN            NaN  4.190000e+01   \n",
       "5772703      Wilton Ave & Belmont Ave   TA1307000134  4.186000e+01   \n",
       "2471807      Fairbanks Ct & Grand Ave   TA1305000003  4.186610e+07   \n",
       "2349657                           NaN            NaN  4.172616e+15   \n",
       "2529770    Clarendon Ave & Gordon Ter          13379  4.194553e+07   \n",
       "2525078          State St & Kinzie St          13050  4.188102e+07   \n",
       "\n",
       "            start_lng       end_lat       end_lng member_casual  \n",
       "3881479 -8.763724e+15  4.188169e+06 -8.763953e+06        member  \n",
       "5702299 -8.761940e+15  4.187812e+15 -8.764395e+15        casual  \n",
       "1766901 -8.763170e+07  4.189158e+07 -8.764838e+07        member  \n",
       "1312315 -8.764312e+07  4.189575e+07 -8.762010e+07        member  \n",
       "3959225 -8.763000e+01  4.192000e+01 -8.763000e+01        member  \n",
       "5772703 -8.764000e+01  4.194023e+16 -8.765294e+15        casual  \n",
       "2471807 -8.760727e+07  4.189185e+15 -8.762058e+15        casual  \n",
       "2349657 -8.756639e+15  4.190000e+01 -8.763000e+01        casual  \n",
       "2529770 -8.764644e+07  4.195787e+15 -8.764951e+15        member  \n",
       "2525078 -8.761675e+15  4.188938e+16 -8.762708e+15        casual  "
      ]
     },
     "execution_count": 7,
     "metadata": {},
     "output_type": "execute_result"
    }
   ],
   "source": [
    "# Amostra dos Dados\n",
    "dataset.sample(10)"
   ]
  },
  {
   "cell_type": "code",
   "execution_count": 7,
   "id": "da6cf67d",
   "metadata": {},
   "outputs": [
    {
     "name": "stdout",
     "output_type": "stream",
     "text": [
      "<class 'pandas.core.frame.DataFrame'>\n",
      "RangeIndex: 5828176 entries, 0 to 5828175\n",
      "Data columns (total 15 columns):\n",
      " #   Column              Dtype         \n",
      "---  ------              -----         \n",
      " 0   ride_id             object        \n",
      " 1   rideable_type       object        \n",
      " 2   started_at          datetime64[ns]\n",
      " 3   ended_at            datetime64[ns]\n",
      " 4   duracao_passeio     object        \n",
      " 5   dia_da_semana       int64         \n",
      " 6   start_station_name  object        \n",
      " 7   start_station_id    object        \n",
      " 8   end_station_name    object        \n",
      " 9   end_station_id      object        \n",
      " 10  start_lat           float64       \n",
      " 11  start_lng           float64       \n",
      " 12  end_lat             float64       \n",
      " 13  end_lng             float64       \n",
      " 14  member_casual       object        \n",
      "dtypes: datetime64[ns](2), float64(4), int64(1), object(8)\n",
      "memory usage: 667.0+ MB\n"
     ]
    }
   ],
   "source": [
    "dataset.info()"
   ]
  },
  {
   "cell_type": "code",
   "execution_count": 8,
   "id": "352af575",
   "metadata": {},
   "outputs": [
    {
     "data": {
      "text/html": [
       "<div>\n",
       "<style scoped>\n",
       "    .dataframe tbody tr th:only-of-type {\n",
       "        vertical-align: middle;\n",
       "    }\n",
       "\n",
       "    .dataframe tbody tr th {\n",
       "        vertical-align: top;\n",
       "    }\n",
       "\n",
       "    .dataframe thead th {\n",
       "        text-align: right;\n",
       "    }\n",
       "</style>\n",
       "<table border=\"1\" class=\"dataframe\">\n",
       "  <thead>\n",
       "    <tr style=\"text-align: right;\">\n",
       "      <th></th>\n",
       "      <th>ride_id</th>\n",
       "      <th>rideable_type</th>\n",
       "      <th>duracao_passeio</th>\n",
       "      <th>start_station_name</th>\n",
       "      <th>start_station_id</th>\n",
       "      <th>end_station_name</th>\n",
       "      <th>end_station_id</th>\n",
       "      <th>member_casual</th>\n",
       "    </tr>\n",
       "  </thead>\n",
       "  <tbody>\n",
       "    <tr>\n",
       "      <th>count</th>\n",
       "      <td>5828176</td>\n",
       "      <td>5828176</td>\n",
       "      <td>5828176</td>\n",
       "      <td>4933153</td>\n",
       "      <td>4933153</td>\n",
       "      <td>4869969</td>\n",
       "      <td>4869969</td>\n",
       "      <td>5828176</td>\n",
       "    </tr>\n",
       "    <tr>\n",
       "      <th>unique</th>\n",
       "      <td>5828176</td>\n",
       "      <td>3</td>\n",
       "      <td>22647</td>\n",
       "      <td>1591</td>\n",
       "      <td>1302</td>\n",
       "      <td>1609</td>\n",
       "      <td>1309</td>\n",
       "      <td>2</td>\n",
       "    </tr>\n",
       "    <tr>\n",
       "      <th>top</th>\n",
       "      <td>620BC6107255BF4C</td>\n",
       "      <td>electric_bike</td>\n",
       "      <td>00:05:23</td>\n",
       "      <td>Streeter Dr &amp; Grand Ave</td>\n",
       "      <td>13022</td>\n",
       "      <td>Streeter Dr &amp; Grand Ave</td>\n",
       "      <td>13022</td>\n",
       "      <td>member</td>\n",
       "    </tr>\n",
       "    <tr>\n",
       "      <th>freq</th>\n",
       "      <td>1</td>\n",
       "      <td>2895208</td>\n",
       "      <td>6430</td>\n",
       "      <td>75985</td>\n",
       "      <td>75985</td>\n",
       "      <td>76510</td>\n",
       "      <td>76510</td>\n",
       "      <td>3426921</td>\n",
       "    </tr>\n",
       "  </tbody>\n",
       "</table>\n",
       "</div>"
      ],
      "text/plain": [
       "                 ride_id  rideable_type duracao_passeio  \\\n",
       "count            5828176        5828176         5828176   \n",
       "unique           5828176              3           22647   \n",
       "top     620BC6107255BF4C  electric_bike        00:05:23   \n",
       "freq                   1        2895208            6430   \n",
       "\n",
       "             start_station_name  start_station_id         end_station_name  \\\n",
       "count                   4933153           4933153                  4869969   \n",
       "unique                     1591              1302                     1609   \n",
       "top     Streeter Dr & Grand Ave             13022  Streeter Dr & Grand Ave   \n",
       "freq                      75985             75985                    76510   \n",
       "\n",
       "        end_station_id member_casual  \n",
       "count          4869969       5828176  \n",
       "unique            1309             2  \n",
       "top              13022        member  \n",
       "freq             76510       3426921  "
      ]
     },
     "execution_count": 8,
     "metadata": {},
     "output_type": "execute_result"
    }
   ],
   "source": [
    "# Resumo dados Categoricos\n",
    "dataset.describe(include = object)"
   ]
  },
  {
   "cell_type": "code",
   "execution_count": 18,
   "id": "8f5f2c83",
   "metadata": {},
   "outputs": [
    {
     "data": {
      "text/html": [
       "<div>\n",
       "<style scoped>\n",
       "    .dataframe tbody tr th:only-of-type {\n",
       "        vertical-align: middle;\n",
       "    }\n",
       "\n",
       "    .dataframe tbody tr th {\n",
       "        vertical-align: top;\n",
       "    }\n",
       "\n",
       "    .dataframe thead th {\n",
       "        text-align: right;\n",
       "    }\n",
       "</style>\n",
       "<table border=\"1\" class=\"dataframe\">\n",
       "  <thead>\n",
       "    <tr style=\"text-align: right;\">\n",
       "      <th></th>\n",
       "      <th>dia_da_semana</th>\n",
       "      <th>start_lat</th>\n",
       "      <th>start_lng</th>\n",
       "      <th>end_lat</th>\n",
       "      <th>end_lng</th>\n",
       "    </tr>\n",
       "  </thead>\n",
       "  <tbody>\n",
       "    <tr>\n",
       "      <th>count</th>\n",
       "      <td>5.828176e+06</td>\n",
       "      <td>5.828176e+06</td>\n",
       "      <td>5.828176e+06</td>\n",
       "      <td>5.822332e+06</td>\n",
       "      <td>5.822332e+06</td>\n",
       "    </tr>\n",
       "    <tr>\n",
       "      <th>mean</th>\n",
       "      <td>4.116598e+00</td>\n",
       "      <td>4.761239e+15</td>\n",
       "      <td>-2.189301e+15</td>\n",
       "      <td>2.489603e+15</td>\n",
       "      <td>-1.198269e+15</td>\n",
       "    </tr>\n",
       "    <tr>\n",
       "      <th>std</th>\n",
       "      <td>2.019638e+00</td>\n",
       "      <td>1.236679e+16</td>\n",
       "      <td>3.783400e+15</td>\n",
       "      <td>9.196120e+15</td>\n",
       "      <td>2.989503e+15</td>\n",
       "    </tr>\n",
       "    <tr>\n",
       "      <th>min</th>\n",
       "      <td>1.000000e+00</td>\n",
       "      <td>4.164000e+01</td>\n",
       "      <td>-8.783325e+15</td>\n",
       "      <td>4.139000e+01</td>\n",
       "      <td>-8.777476e+15</td>\n",
       "    </tr>\n",
       "    <tr>\n",
       "      <th>25%</th>\n",
       "      <td>2.000000e+00</td>\n",
       "      <td>4.185680e+07</td>\n",
       "      <td>-8.766786e+14</td>\n",
       "      <td>4.196325e+06</td>\n",
       "      <td>-8.762769e+10</td>\n",
       "    </tr>\n",
       "    <tr>\n",
       "      <th>50%</th>\n",
       "      <td>4.000000e+00</td>\n",
       "      <td>4.193222e+07</td>\n",
       "      <td>-8.765975e+07</td>\n",
       "      <td>4.190322e+07</td>\n",
       "      <td>-8.764182e+07</td>\n",
       "    </tr>\n",
       "    <tr>\n",
       "      <th>75%</th>\n",
       "      <td>6.000000e+00</td>\n",
       "      <td>4.193669e+14</td>\n",
       "      <td>-8.759986e+07</td>\n",
       "      <td>4.188872e+10</td>\n",
       "      <td>-8.765114e+06</td>\n",
       "    </tr>\n",
       "    <tr>\n",
       "      <th>max</th>\n",
       "      <td>7.000000e+00</td>\n",
       "      <td>4.206483e+16</td>\n",
       "      <td>-8.752000e+01</td>\n",
       "      <td>4.206477e+16</td>\n",
       "      <td>-8.730000e+01</td>\n",
       "    </tr>\n",
       "  </tbody>\n",
       "</table>\n",
       "</div>"
      ],
      "text/plain": [
       "       dia_da_semana     start_lat     start_lng       end_lat       end_lng\n",
       "count   5.828176e+06  5.828176e+06  5.828176e+06  5.822332e+06  5.822332e+06\n",
       "mean    4.116598e+00  4.761239e+15 -2.189301e+15  2.489603e+15 -1.198269e+15\n",
       "std     2.019638e+00  1.236679e+16  3.783400e+15  9.196120e+15  2.989503e+15\n",
       "min     1.000000e+00  4.164000e+01 -8.783325e+15  4.139000e+01 -8.777476e+15\n",
       "25%     2.000000e+00  4.185680e+07 -8.766786e+14  4.196325e+06 -8.762769e+10\n",
       "50%     4.000000e+00  4.193222e+07 -8.765975e+07  4.190322e+07 -8.764182e+07\n",
       "75%     6.000000e+00  4.193669e+14 -8.759986e+07  4.188872e+10 -8.765114e+06\n",
       "max     7.000000e+00  4.206483e+16 -8.752000e+01  4.206477e+16 -8.730000e+01"
      ]
     },
     "execution_count": 18,
     "metadata": {},
     "output_type": "execute_result"
    }
   ],
   "source": [
    "# Resumo dados Númericos\n",
    "dataset.describe()"
   ]
  },
  {
   "cell_type": "code",
   "execution_count": 19,
   "id": "68e056f2-7688-4317-af36-57d31c38b118",
   "metadata": {},
   "outputs": [
    {
     "data": {
      "text/plain": [
       "ride_id                    0\n",
       "rideable_type              0\n",
       "started_at                 0\n",
       "ended_at                   0\n",
       "duracao_passeio            0\n",
       "dia_da_semana              0\n",
       "start_station_name    895023\n",
       "start_station_id      895023\n",
       "end_station_name      958207\n",
       "end_station_id        958207\n",
       "start_lat                  0\n",
       "start_lng                  0\n",
       "end_lat                 5844\n",
       "end_lng                 5844\n",
       "member_casual              0\n",
       "dtype: int64"
      ]
     },
     "execution_count": 19,
     "metadata": {},
     "output_type": "execute_result"
    }
   ],
   "source": [
    "# Verificando valores Nulos\n",
    "dataset.isnull().sum()"
   ]
  },
  {
   "cell_type": "markdown",
   "id": "01cf7246-f2f7-46f7-b2a3-b31c400ac173",
   "metadata": {},
   "source": [
    "## Visualizando Distribuição das Variáveis Qualitativas"
   ]
  },
  {
   "cell_type": "code",
   "execution_count": 11,
   "id": "66bd22af",
   "metadata": {},
   "outputs": [
    {
     "data": {
      "image/png": "[encoded data removed]",
      "text/plain": [
       "<Figure size 576x432 with 1 Axes>"
      ]
     },
     "metadata": {
      "needs_background": "light"
     },
     "output_type": "display_data"
    }
   ],
   "source": [
    "# Distribuição de rideable_type\n",
    "plt.figure(figsize = (8, 6))\n",
    "sns.countplot(data = dataset, x = 'rideable_type', color = 'Steelblue')\n",
    "plt.ticklabel_format(style='plain', axis='y')\n",
    "plt.title('Tipo de Bicicleta')\n",
    "plt.xlabel('Bicicleta')\n",
    "plt.ylabel('Contagem')\n",
    "plt.show()"
   ]
  },
  {
   "cell_type": "code",
   "execution_count": 12,
   "id": "aa763d6c-34bb-4042-8861-e8dfe2287ccf",
   "metadata": {},
   "outputs": [
    {
     "data": {
      "image/png": "[encoded data removed]",
      "text/plain": [
       "<Figure size 576x432 with 1 Axes>"
      ]
     },
     "metadata": {
      "needs_background": "light"
     },
     "output_type": "display_data"
    }
   ],
   "source": [
    "# Distribuição de member_casual\n",
    "plt.figure(figsize = (8, 6))\n",
    "sns.countplot(data = dataset, x = 'member_casual', color = 'Steelblue')\n",
    "plt.ticklabel_format(style='plain', axis='y')\n",
    "plt.title('Tipo de Membro')\n",
    "plt.xlabel('Tipo')\n",
    "plt.ylabel('Contagem')\n",
    "plt.show()"
   ]
  },
  {
   "cell_type": "code",
   "execution_count": 13,
   "id": "1f9e2048-ab51-4107-a8e4-b7e9738ee8e0",
   "metadata": {},
   "outputs": [
    {
     "data": {
      "image/png": "[encoded data removed]",
      "text/plain": [
       "<Figure size 576x576 with 1 Axes>"
      ]
     },
     "metadata": {
      "needs_background": "light"
     },
     "output_type": "display_data"
    }
   ],
   "source": [
    "# Distribuição de dia_da_semana \n",
    "plt.figure(figsize = (8, 8))\n",
    "sns.countplot(data = dataset, x = 'dia_da_semana', color = 'Steelblue')\n",
    "plt.ticklabel_format(style='plain', axis='y')\n",
    "plt.title('Distribuição de Dias')\n",
    "plt.xlabel('Dia')\n",
    "plt.ylabel('Contagem')\n",
    "plt.show()"
   ]
  },
  {
   "cell_type": "markdown",
   "id": "e9b852ae-8208-4e16-a643-87c5f670a1f4",
   "metadata": {
    "tags": []
   },
   "source": [
    "## Engenharia de Atributos"
   ]
  },
  {
   "cell_type": "code",
   "execution_count": 20,
   "id": "1992d55a-e093-48c4-9254-33b0627392e5",
   "metadata": {},
   "outputs": [],
   "source": [
    "# Criando a coluna em minutos\n",
    "# Calculando a duração de passeio e transformando em minutos\n",
    "dataset['DiferencaMinutos'] = ((dataset['ended_at'] - dataset['started_at']).dt.total_seconds() / 60)"
   ]
  },
  {
   "cell_type": "code",
   "execution_count": 21,
   "id": "4a6bea97-26e1-4978-b1cb-38a1e223ff42",
   "metadata": {},
   "outputs": [],
   "source": [
    "# Drop da coluna duracao_passeio, ela está com formato diferente.\n",
    "dataset = dataset.drop('duracao_passeio', axis=1)"
   ]
  },
  {
   "cell_type": "code",
   "execution_count": 22,
   "id": "32e3d404-af00-4922-a503-99ef4c605497",
   "metadata": {},
   "outputs": [],
   "source": [
    "dataset['DiferencaMinutos'] = round(dataset['DiferencaMinutos'], 2)"
   ]
  },
  {
   "cell_type": "code",
   "execution_count": 23,
   "id": "33c6797a-505a-48c2-9d78-4e15e397c0e5",
   "metadata": {},
   "outputs": [],
   "source": [
    "dataset.rename(columns={'DiferencaMinutos': 'Duracao_Passeio(Minutos)'}, inplace = True)"
   ]
  },
  {
   "cell_type": "code",
   "execution_count": 24,
   "id": "ae3d2260-6f4a-4550-af1e-5b230abe6a1c",
   "metadata": {},
   "outputs": [
    {
     "data": {
      "text/html": [
       "<div>\n",
       "<style scoped>\n",
       "    .dataframe tbody tr th:only-of-type {\n",
       "        vertical-align: middle;\n",
       "    }\n",
       "\n",
       "    .dataframe tbody tr th {\n",
       "        vertical-align: top;\n",
       "    }\n",
       "\n",
       "    .dataframe thead th {\n",
       "        text-align: right;\n",
       "    }\n",
       "</style>\n",
       "<table border=\"1\" class=\"dataframe\">\n",
       "  <thead>\n",
       "    <tr style=\"text-align: right;\">\n",
       "      <th></th>\n",
       "      <th>ride_id</th>\n",
       "      <th>rideable_type</th>\n",
       "      <th>started_at</th>\n",
       "      <th>ended_at</th>\n",
       "      <th>dia_da_semana</th>\n",
       "      <th>start_station_name</th>\n",
       "      <th>start_station_id</th>\n",
       "      <th>end_station_name</th>\n",
       "      <th>end_station_id</th>\n",
       "      <th>start_lat</th>\n",
       "      <th>start_lng</th>\n",
       "      <th>end_lat</th>\n",
       "      <th>end_lng</th>\n",
       "      <th>member_casual</th>\n",
       "      <th>Duracao_Passeio(Minutos)</th>\n",
       "    </tr>\n",
       "  </thead>\n",
       "  <tbody>\n",
       "    <tr>\n",
       "      <th>3356278</th>\n",
       "      <td>15BB9F8222DAEF79</td>\n",
       "      <td>electric_bike</td>\n",
       "      <td>2022-06-22 14:44:17</td>\n",
       "      <td>2022-06-22 14:47:04</td>\n",
       "      <td>4</td>\n",
       "      <td>Throop St &amp; Taylor St</td>\n",
       "      <td>13139</td>\n",
       "      <td>NaN</td>\n",
       "      <td>NaN</td>\n",
       "      <td>4.186886e+15</td>\n",
       "      <td>-8.765907e+08</td>\n",
       "      <td>4.187000e+01</td>\n",
       "      <td>-8.767000e+01</td>\n",
       "      <td>casual</td>\n",
       "      <td>2.78</td>\n",
       "    </tr>\n",
       "    <tr>\n",
       "      <th>2190811</th>\n",
       "      <td>CE07BFC76296BB20</td>\n",
       "      <td>electric_bike</td>\n",
       "      <td>2022-05-17 15:27:36</td>\n",
       "      <td>2022-05-17 15:36:06</td>\n",
       "      <td>3</td>\n",
       "      <td>Clifton Ave &amp; Armitage Ave</td>\n",
       "      <td>TA1307000163</td>\n",
       "      <td>Clifton Ave &amp; Armitage Ave</td>\n",
       "      <td>TA1307000163</td>\n",
       "      <td>4.191826e+15</td>\n",
       "      <td>-8.765710e+15</td>\n",
       "      <td>4.191822e+07</td>\n",
       "      <td>-8.765694e+07</td>\n",
       "      <td>member</td>\n",
       "      <td>8.50</td>\n",
       "    </tr>\n",
       "    <tr>\n",
       "      <th>927833</th>\n",
       "      <td>83A00DACC388EFB9</td>\n",
       "      <td>electric_bike</td>\n",
       "      <td>2021-11-05 14:07:45</td>\n",
       "      <td>2021-11-05 14:14:03</td>\n",
       "      <td>6</td>\n",
       "      <td>Ogden Ave &amp; Race Ave</td>\n",
       "      <td>13194</td>\n",
       "      <td>Kingsbury St &amp; Kinzie St</td>\n",
       "      <td>KA1503000043</td>\n",
       "      <td>4.189178e+15</td>\n",
       "      <td>-8.765884e+15</td>\n",
       "      <td>4.188969e+16</td>\n",
       "      <td>-8.763861e+15</td>\n",
       "      <td>member</td>\n",
       "      <td>6.30</td>\n",
       "    </tr>\n",
       "    <tr>\n",
       "      <th>1812403</th>\n",
       "      <td>337C7DF2B408E5F9</td>\n",
       "      <td>classic_bike</td>\n",
       "      <td>2022-04-29 17:03:31</td>\n",
       "      <td>2022-04-29 17:04:40</td>\n",
       "      <td>6</td>\n",
       "      <td>Ellis Ave &amp; 58th St</td>\n",
       "      <td>TA1309000011</td>\n",
       "      <td>Ellis Ave &amp; 58th St</td>\n",
       "      <td>TA1309000011</td>\n",
       "      <td>4.178875e+07</td>\n",
       "      <td>-8.760133e+07</td>\n",
       "      <td>4.178875e+07</td>\n",
       "      <td>-8.760133e+07</td>\n",
       "      <td>member</td>\n",
       "      <td>1.15</td>\n",
       "    </tr>\n",
       "    <tr>\n",
       "      <th>5759340</th>\n",
       "      <td>8AB4E7325F2BF94D</td>\n",
       "      <td>electric_bike</td>\n",
       "      <td>2022-09-05 23:04:22</td>\n",
       "      <td>2022-09-05 23:07:22</td>\n",
       "      <td>2</td>\n",
       "      <td>NaN</td>\n",
       "      <td>NaN</td>\n",
       "      <td>DuSable Lake Shore Dr &amp; Belmont Ave</td>\n",
       "      <td>TA1309000049</td>\n",
       "      <td>4.194000e+01</td>\n",
       "      <td>-8.764000e+01</td>\n",
       "      <td>4.194078e+07</td>\n",
       "      <td>-8.763919e+07</td>\n",
       "      <td>member</td>\n",
       "      <td>3.00</td>\n",
       "    </tr>\n",
       "  </tbody>\n",
       "</table>\n",
       "</div>"
      ],
      "text/plain": [
       "                  ride_id  rideable_type          started_at  \\\n",
       "3356278  15BB9F8222DAEF79  electric_bike 2022-06-22 14:44:17   \n",
       "2190811  CE07BFC76296BB20  electric_bike 2022-05-17 15:27:36   \n",
       "927833   83A00DACC388EFB9  electric_bike 2021-11-05 14:07:45   \n",
       "1812403  337C7DF2B408E5F9   classic_bike 2022-04-29 17:03:31   \n",
       "5759340  8AB4E7325F2BF94D  electric_bike 2022-09-05 23:04:22   \n",
       "\n",
       "                   ended_at  dia_da_semana          start_station_name  \\\n",
       "3356278 2022-06-22 14:47:04              4       Throop St & Taylor St   \n",
       "2190811 2022-05-17 15:36:06              3  Clifton Ave & Armitage Ave   \n",
       "927833  2021-11-05 14:14:03              6        Ogden Ave & Race Ave   \n",
       "1812403 2022-04-29 17:04:40              6         Ellis Ave & 58th St   \n",
       "5759340 2022-09-05 23:07:22              2                         NaN   \n",
       "\n",
       "        start_station_id                     end_station_name end_station_id  \\\n",
       "3356278            13139                                  NaN            NaN   \n",
       "2190811     TA1307000163           Clifton Ave & Armitage Ave   TA1307000163   \n",
       "927833             13194             Kingsbury St & Kinzie St   KA1503000043   \n",
       "1812403     TA1309000011                  Ellis Ave & 58th St   TA1309000011   \n",
       "5759340              NaN  DuSable Lake Shore Dr & Belmont Ave   TA1309000049   \n",
       "\n",
       "            start_lat     start_lng       end_lat       end_lng member_casual  \\\n",
       "3356278  4.186886e+15 -8.765907e+08  4.187000e+01 -8.767000e+01        casual   \n",
       "2190811  4.191826e+15 -8.765710e+15  4.191822e+07 -8.765694e+07        member   \n",
       "927833   4.189178e+15 -8.765884e+15  4.188969e+16 -8.763861e+15        member   \n",
       "1812403  4.178875e+07 -8.760133e+07  4.178875e+07 -8.760133e+07        member   \n",
       "5759340  4.194000e+01 -8.764000e+01  4.194078e+07 -8.763919e+07        member   \n",
       "\n",
       "         Duracao_Passeio(Minutos)  \n",
       "3356278                      2.78  \n",
       "2190811                      8.50  \n",
       "927833                       6.30  \n",
       "1812403                      1.15  \n",
       "5759340                      3.00  "
      ]
     },
     "execution_count": 24,
     "metadata": {},
     "output_type": "execute_result"
    }
   ],
   "source": [
    "dataset.sample(5)"
   ]
  },
  {
   "cell_type": "code",
   "execution_count": 25,
   "id": "2a10f344-067d-47e4-ae9b-1edf585bccab",
   "metadata": {},
   "outputs": [],
   "source": [
    "# Criando coluna apenas com os meses de Started_at\n",
    "dataset['month'] = dataset['started_at'].dt.month"
   ]
  },
  {
   "cell_type": "code",
   "execution_count": 26,
   "id": "3ee22177-ff88-4d54-bad0-3f309500d261",
   "metadata": {},
   "outputs": [
    {
     "data": {
      "text/html": [
       "<div>\n",
       "<style scoped>\n",
       "    .dataframe tbody tr th:only-of-type {\n",
       "        vertical-align: middle;\n",
       "    }\n",
       "\n",
       "    .dataframe tbody tr th {\n",
       "        vertical-align: top;\n",
       "    }\n",
       "\n",
       "    .dataframe thead th {\n",
       "        text-align: right;\n",
       "    }\n",
       "</style>\n",
       "<table border=\"1\" class=\"dataframe\">\n",
       "  <thead>\n",
       "    <tr style=\"text-align: right;\">\n",
       "      <th></th>\n",
       "      <th>ride_id</th>\n",
       "      <th>rideable_type</th>\n",
       "      <th>started_at</th>\n",
       "      <th>ended_at</th>\n",
       "      <th>dia_da_semana</th>\n",
       "      <th>start_station_name</th>\n",
       "      <th>start_station_id</th>\n",
       "      <th>end_station_name</th>\n",
       "      <th>end_station_id</th>\n",
       "      <th>start_lat</th>\n",
       "      <th>start_lng</th>\n",
       "      <th>end_lat</th>\n",
       "      <th>end_lng</th>\n",
       "      <th>member_casual</th>\n",
       "      <th>Duracao_Passeio(Minutos)</th>\n",
       "      <th>month</th>\n",
       "    </tr>\n",
       "  </thead>\n",
       "  <tbody>\n",
       "    <tr>\n",
       "      <th>1196038</th>\n",
       "      <td>A3CE7FF863EA3876</td>\n",
       "      <td>electric_bike</td>\n",
       "      <td>2021-12-02 11:32:45</td>\n",
       "      <td>2021-12-02 11:36:30</td>\n",
       "      <td>5</td>\n",
       "      <td>Bissell St &amp; Armitage Ave</td>\n",
       "      <td>13059</td>\n",
       "      <td>Larrabee St &amp; Armitage Ave</td>\n",
       "      <td>TA1309000006</td>\n",
       "      <td>4.191792e+08</td>\n",
       "      <td>-8.765210e+15</td>\n",
       "      <td>4.191810e+15</td>\n",
       "      <td>-8.764383e+15</td>\n",
       "      <td>member</td>\n",
       "      <td>3.75</td>\n",
       "      <td>12</td>\n",
       "    </tr>\n",
       "    <tr>\n",
       "      <th>4233327</th>\n",
       "      <td>7F56623066BD8D6E</td>\n",
       "      <td>electric_bike</td>\n",
       "      <td>2022-07-10 14:15:20</td>\n",
       "      <td>2022-07-10 14:26:08</td>\n",
       "      <td>1</td>\n",
       "      <td>Aberdeen St &amp; Jackson Blvd</td>\n",
       "      <td>13157</td>\n",
       "      <td>Clark St &amp; Ida B Wells Dr</td>\n",
       "      <td>TA1305000009</td>\n",
       "      <td>4.187772e+08</td>\n",
       "      <td>-8.765490e+15</td>\n",
       "      <td>4.187593e+11</td>\n",
       "      <td>-8.763058e+11</td>\n",
       "      <td>casual</td>\n",
       "      <td>10.80</td>\n",
       "      <td>7</td>\n",
       "    </tr>\n",
       "    <tr>\n",
       "      <th>222964</th>\n",
       "      <td>B1BD69765DDDBF5E</td>\n",
       "      <td>classic_bike</td>\n",
       "      <td>2021-10-09 14:17:30</td>\n",
       "      <td>2021-10-09 14:22:57</td>\n",
       "      <td>7</td>\n",
       "      <td>Rush St &amp; Cedar St</td>\n",
       "      <td>KA1504000133</td>\n",
       "      <td>Clark St &amp; North Ave</td>\n",
       "      <td>13128</td>\n",
       "      <td>4.190231e+12</td>\n",
       "      <td>-8.762769e+10</td>\n",
       "      <td>4.191197e+07</td>\n",
       "      <td>-8.763194e+07</td>\n",
       "      <td>member</td>\n",
       "      <td>5.45</td>\n",
       "      <td>10</td>\n",
       "    </tr>\n",
       "    <tr>\n",
       "      <th>563318</th>\n",
       "      <td>DE99F64C4DF552C5</td>\n",
       "      <td>classic_bike</td>\n",
       "      <td>2021-10-27 17:58:10</td>\n",
       "      <td>2021-10-27 18:08:53</td>\n",
       "      <td>4</td>\n",
       "      <td>State St &amp; Randolph St</td>\n",
       "      <td>TA1305000029</td>\n",
       "      <td>Ritchie Ct &amp; Banks St</td>\n",
       "      <td>KA1504000134</td>\n",
       "      <td>4.188462e+15</td>\n",
       "      <td>-8.762783e+15</td>\n",
       "      <td>4.190687e+07</td>\n",
       "      <td>-8.762622e+07</td>\n",
       "      <td>member</td>\n",
       "      <td>10.72</td>\n",
       "      <td>10</td>\n",
       "    </tr>\n",
       "    <tr>\n",
       "      <th>2728289</th>\n",
       "      <td>964BDCE578D40BDC</td>\n",
       "      <td>electric_bike</td>\n",
       "      <td>2022-05-27 11:01:58</td>\n",
       "      <td>2022-05-27 11:09:09</td>\n",
       "      <td>6</td>\n",
       "      <td>NaN</td>\n",
       "      <td>NaN</td>\n",
       "      <td>NaN</td>\n",
       "      <td>NaN</td>\n",
       "      <td>4.179000e+01</td>\n",
       "      <td>-8.760000e+01</td>\n",
       "      <td>4.180000e+01</td>\n",
       "      <td>-8.759000e+01</td>\n",
       "      <td>member</td>\n",
       "      <td>7.18</td>\n",
       "      <td>5</td>\n",
       "    </tr>\n",
       "  </tbody>\n",
       "</table>\n",
       "</div>"
      ],
      "text/plain": [
       "                  ride_id  rideable_type          started_at  \\\n",
       "1196038  A3CE7FF863EA3876  electric_bike 2021-12-02 11:32:45   \n",
       "4233327  7F56623066BD8D6E  electric_bike 2022-07-10 14:15:20   \n",
       "222964   B1BD69765DDDBF5E   classic_bike 2021-10-09 14:17:30   \n",
       "563318   DE99F64C4DF552C5   classic_bike 2021-10-27 17:58:10   \n",
       "2728289  964BDCE578D40BDC  electric_bike 2022-05-27 11:01:58   \n",
       "\n",
       "                   ended_at  dia_da_semana          start_station_name  \\\n",
       "1196038 2021-12-02 11:36:30              5   Bissell St & Armitage Ave   \n",
       "4233327 2022-07-10 14:26:08              1  Aberdeen St & Jackson Blvd   \n",
       "222964  2021-10-09 14:22:57              7          Rush St & Cedar St   \n",
       "563318  2021-10-27 18:08:53              4      State St & Randolph St   \n",
       "2728289 2022-05-27 11:09:09              6                         NaN   \n",
       "\n",
       "        start_station_id            end_station_name end_station_id  \\\n",
       "1196038            13059  Larrabee St & Armitage Ave   TA1309000006   \n",
       "4233327            13157   Clark St & Ida B Wells Dr   TA1305000009   \n",
       "222964      KA1504000133        Clark St & North Ave          13128   \n",
       "563318      TA1305000029       Ritchie Ct & Banks St   KA1504000134   \n",
       "2728289              NaN                         NaN            NaN   \n",
       "\n",
       "            start_lat     start_lng       end_lat       end_lng member_casual  \\\n",
       "1196038  4.191792e+08 -8.765210e+15  4.191810e+15 -8.764383e+15        member   \n",
       "4233327  4.187772e+08 -8.765490e+15  4.187593e+11 -8.763058e+11        casual   \n",
       "222964   4.190231e+12 -8.762769e+10  4.191197e+07 -8.763194e+07        member   \n",
       "563318   4.188462e+15 -8.762783e+15  4.190687e+07 -8.762622e+07        member   \n",
       "2728289  4.179000e+01 -8.760000e+01  4.180000e+01 -8.759000e+01        member   \n",
       "\n",
       "         Duracao_Passeio(Minutos)  month  \n",
       "1196038                      3.75     12  \n",
       "4233327                     10.80      7  \n",
       "222964                       5.45     10  \n",
       "563318                      10.72     10  \n",
       "2728289                      7.18      5  "
      ]
     },
     "execution_count": 26,
     "metadata": {},
     "output_type": "execute_result"
    }
   ],
   "source": [
    "dataset.sample(5)"
   ]
  },
  {
   "cell_type": "markdown",
   "id": "84bf7242",
   "metadata": {},
   "source": [
    "## Limpeza e Tratamento dos Dados"
   ]
  },
  {
   "cell_type": "code",
   "execution_count": 27,
   "id": "b9ac0ff6-5778-422f-bd74-bbde2317895b",
   "metadata": {},
   "outputs": [
    {
     "name": "stdout",
     "output_type": "stream",
     "text": [
      "<class 'pandas.core.frame.DataFrame'>\n",
      "RangeIndex: 5828176 entries, 0 to 5828175\n",
      "Data columns (total 16 columns):\n",
      " #   Column                    Dtype         \n",
      "---  ------                    -----         \n",
      " 0   ride_id                   object        \n",
      " 1   rideable_type             object        \n",
      " 2   started_at                datetime64[ns]\n",
      " 3   ended_at                  datetime64[ns]\n",
      " 4   dia_da_semana             int64         \n",
      " 5   start_station_name        object        \n",
      " 6   start_station_id          object        \n",
      " 7   end_station_name          object        \n",
      " 8   end_station_id            object        \n",
      " 9   start_lat                 float64       \n",
      " 10  start_lng                 float64       \n",
      " 11  end_lat                   float64       \n",
      " 12  end_lng                   float64       \n",
      " 13  member_casual             object        \n",
      " 14  Duracao_Passeio(Minutos)  float64       \n",
      " 15  month                     int64         \n",
      "dtypes: datetime64[ns](2), float64(5), int64(2), object(7)\n",
      "memory usage: 711.4+ MB\n"
     ]
    }
   ],
   "source": [
    "dataset.info()"
   ]
  },
  {
   "cell_type": "code",
   "execution_count": 28,
   "id": "de907d25-e528-44f6-9fca-590cc8372f82",
   "metadata": {},
   "outputs": [],
   "source": [
    "# Extração as colunas do tipo object \n",
    "string_columns = dataset.select_dtypes(include = 'object').columns.tolist()"
   ]
  },
  {
   "cell_type": "code",
   "execution_count": 29,
   "id": "ea1efd85-93a9-44c6-858a-2e30f6f113ff",
   "metadata": {},
   "outputs": [
    {
     "data": {
      "text/plain": [
       "['ride_id',\n",
       " 'rideable_type',\n",
       " 'start_station_name',\n",
       " 'start_station_id',\n",
       " 'end_station_name',\n",
       " 'end_station_id',\n",
       " 'member_casual']"
      ]
     },
     "execution_count": 29,
     "metadata": {},
     "output_type": "execute_result"
    }
   ],
   "source": [
    "string_columns"
   ]
  },
  {
   "cell_type": "code",
   "execution_count": 30,
   "id": "9c57991a-465f-47c4-b97d-d2c45478dcf5",
   "metadata": {},
   "outputs": [],
   "source": [
    "# Função que converte para string\n",
    "def func_convert_to_string(df, columns):\n",
    "    for col in columns:\n",
    "        df[col] = df[col].astype(\"string\")"
   ]
  },
  {
   "cell_type": "code",
   "execution_count": 31,
   "id": "40e7ece2-1d60-40a1-9177-622ad4d5c1c0",
   "metadata": {},
   "outputs": [],
   "source": [
    "func_convert_to_string(dataset, string_columns)"
   ]
  },
  {
   "cell_type": "code",
   "execution_count": 32,
   "id": "97c62b4c-473c-4443-aae0-ddc2da0b2325",
   "metadata": {},
   "outputs": [
    {
     "name": "stdout",
     "output_type": "stream",
     "text": [
      "<class 'pandas.core.frame.DataFrame'>\n",
      "RangeIndex: 5828176 entries, 0 to 5828175\n",
      "Data columns (total 16 columns):\n",
      " #   Column                    Dtype         \n",
      "---  ------                    -----         \n",
      " 0   ride_id                   string        \n",
      " 1   rideable_type             string        \n",
      " 2   started_at                datetime64[ns]\n",
      " 3   ended_at                  datetime64[ns]\n",
      " 4   dia_da_semana             int64         \n",
      " 5   start_station_name        string        \n",
      " 6   start_station_id          string        \n",
      " 7   end_station_name          string        \n",
      " 8   end_station_id            string        \n",
      " 9   start_lat                 float64       \n",
      " 10  start_lng                 float64       \n",
      " 11  end_lat                   float64       \n",
      " 12  end_lng                   float64       \n",
      " 13  member_casual             string        \n",
      " 14  Duracao_Passeio(Minutos)  float64       \n",
      " 15  month                     int64         \n",
      "dtypes: datetime64[ns](2), float64(5), int64(2), string(7)\n",
      "memory usage: 711.4 MB\n"
     ]
    }
   ],
   "source": [
    "dataset.info()"
   ]
  },
  {
   "cell_type": "code",
   "execution_count": 33,
   "id": "dd2c297d",
   "metadata": {},
   "outputs": [],
   "source": [
    "# Função para calcular % de valores ausentes\n",
    "def valores_ausentes_coluna(df):\n",
    "    \n",
    "    # Total de valores ausentes\n",
    "    mis_val = df.isnull().sum()\n",
    "\n",
    "    # Porcentagem de valores ausentes\n",
    "    mis_val_percent = 100 * mis_val / len(df)\n",
    "\n",
    "    # Tipo de dado das colunas com valores ausentes\n",
    "    mis_val_dtype = df.dtypes\n",
    "\n",
    "    # Cria uma tabela com os resultados\n",
    "    mis_val_table = pd.concat([mis_val, mis_val_percent, mis_val_dtype], axis=1)\n",
    "\n",
    "    # Renomear as colunas\n",
    "    mis_val_table_ren_columns = mis_val_table.rename(\n",
    "    columns = {0 : 'Valores Ausentes', 1 : '% de Valores Ausentes', 2: 'Dtype'})\n",
    "\n",
    "    # Classifica a tabela por porcentagem de valores ausentes de forma decrescente e remove colunas sem valores faltantes\n",
    "    mis_val_table_ren_columns = mis_val_table_ren_columns[mis_val_table_ren_columns.iloc[:,0] != 0].sort_values('% de Valores Ausentes', ascending = False).round(2)\n",
    "\n",
    "    # Print \n",
    "    print (\"O dataset tem \" + str(df.shape[1]) + \" colunas.\\n\"\n",
    "        \"Encontrado: \" + str(mis_val_table_ren_columns.shape[0]) + \" colunas que têm valores ausentes.\")\n",
    "\n",
    "    if mis_val_table_ren_columns.shape[0] == 0:\n",
    "        return\n",
    "\n",
    "    # Retorna o dataframe com informações ausentes\n",
    "    return mis_val_table_ren_columns"
   ]
  },
  {
   "cell_type": "code",
   "execution_count": 34,
   "id": "86c8dba3",
   "metadata": {},
   "outputs": [
    {
     "name": "stdout",
     "output_type": "stream",
     "text": [
      "O dataset tem 16 colunas.\n",
      "Encontrado: 6 colunas que têm valores ausentes.\n"
     ]
    },
    {
     "data": {
      "text/html": [
       "<div>\n",
       "<style scoped>\n",
       "    .dataframe tbody tr th:only-of-type {\n",
       "        vertical-align: middle;\n",
       "    }\n",
       "\n",
       "    .dataframe tbody tr th {\n",
       "        vertical-align: top;\n",
       "    }\n",
       "\n",
       "    .dataframe thead th {\n",
       "        text-align: right;\n",
       "    }\n",
       "</style>\n",
       "<table border=\"1\" class=\"dataframe\">\n",
       "  <thead>\n",
       "    <tr style=\"text-align: right;\">\n",
       "      <th></th>\n",
       "      <th>Valores Ausentes</th>\n",
       "      <th>% de Valores Ausentes</th>\n",
       "      <th>Dtype</th>\n",
       "    </tr>\n",
       "  </thead>\n",
       "  <tbody>\n",
       "    <tr>\n",
       "      <th>end_station_name</th>\n",
       "      <td>958207</td>\n",
       "      <td>16.44</td>\n",
       "      <td>string</td>\n",
       "    </tr>\n",
       "    <tr>\n",
       "      <th>end_station_id</th>\n",
       "      <td>958207</td>\n",
       "      <td>16.44</td>\n",
       "      <td>string</td>\n",
       "    </tr>\n",
       "    <tr>\n",
       "      <th>start_station_name</th>\n",
       "      <td>895023</td>\n",
       "      <td>15.36</td>\n",
       "      <td>string</td>\n",
       "    </tr>\n",
       "    <tr>\n",
       "      <th>start_station_id</th>\n",
       "      <td>895023</td>\n",
       "      <td>15.36</td>\n",
       "      <td>string</td>\n",
       "    </tr>\n",
       "    <tr>\n",
       "      <th>end_lat</th>\n",
       "      <td>5844</td>\n",
       "      <td>0.10</td>\n",
       "      <td>float64</td>\n",
       "    </tr>\n",
       "    <tr>\n",
       "      <th>end_lng</th>\n",
       "      <td>5844</td>\n",
       "      <td>0.10</td>\n",
       "      <td>float64</td>\n",
       "    </tr>\n",
       "  </tbody>\n",
       "</table>\n",
       "</div>"
      ],
      "text/plain": [
       "                    Valores Ausentes  % de Valores Ausentes    Dtype\n",
       "end_station_name              958207                  16.44   string\n",
       "end_station_id                958207                  16.44   string\n",
       "start_station_name            895023                  15.36   string\n",
       "start_station_id              895023                  15.36   string\n",
       "end_lat                         5844                   0.10  float64\n",
       "end_lng                         5844                   0.10  float64"
      ]
     },
     "execution_count": 34,
     "metadata": {},
     "output_type": "execute_result"
    }
   ],
   "source": [
    "valores_ausentes_coluna(dataset)"
   ]
  },
  {
   "cell_type": "code",
   "execution_count": 35,
   "id": "c6a399a2",
   "metadata": {},
   "outputs": [],
   "source": [
    "# Preencher valor NA do tipo categórico\n",
    "def func_fix_missing_value(df, col, value):\n",
    "    \n",
    "    count = df[col].isna().sum()\n",
    "    \n",
    "    df[col] = df[col].fillna(value)\n",
    "    \n",
    "    if type(value) == 'str':\n",
    "        print(f\"{count} valores ausentes na coluna {col} foram substituídos por '{value}'.\")\n",
    "    else:\n",
    "        print(f'{count} valores ausentes na coluna {col} foram substituídos por {value}.')"
   ]
  },
  {
   "cell_type": "code",
   "execution_count": 36,
   "id": "d26b1ee4",
   "metadata": {},
   "outputs": [
    {
     "name": "stdout",
     "output_type": "stream",
     "text": [
      "958207 valores ausentes na coluna end_station_name foram substituídos por unknown.\n",
      "958207 valores ausentes na coluna end_station_id foram substituídos por unknown.\n",
      "895023 valores ausentes na coluna start_station_name foram substituídos por unknown.\n",
      "895023 valores ausentes na coluna start_station_id foram substituídos por unknown.\n"
     ]
    }
   ],
   "source": [
    "func_fix_missing_value(dataset, 'end_station_name',  'unknown')\n",
    "func_fix_missing_value(dataset, 'end_station_id',  'unknown')\n",
    "func_fix_missing_value(dataset, 'start_station_name',  'unknown')\n",
    "func_fix_missing_value(dataset, 'start_station_id',  'unknown')"
   ]
  },
  {
   "cell_type": "code",
   "execution_count": 37,
   "id": "e0abc428",
   "metadata": {},
   "outputs": [
    {
     "name": "stdout",
     "output_type": "stream",
     "text": [
      "O dataset tem 16 colunas.\n",
      "Encontrado: 2 colunas que têm valores ausentes.\n"
     ]
    },
    {
     "data": {
      "text/html": [
       "<div>\n",
       "<style scoped>\n",
       "    .dataframe tbody tr th:only-of-type {\n",
       "        vertical-align: middle;\n",
       "    }\n",
       "\n",
       "    .dataframe tbody tr th {\n",
       "        vertical-align: top;\n",
       "    }\n",
       "\n",
       "    .dataframe thead th {\n",
       "        text-align: right;\n",
       "    }\n",
       "</style>\n",
       "<table border=\"1\" class=\"dataframe\">\n",
       "  <thead>\n",
       "    <tr style=\"text-align: right;\">\n",
       "      <th></th>\n",
       "      <th>Valores Ausentes</th>\n",
       "      <th>% de Valores Ausentes</th>\n",
       "      <th>Dtype</th>\n",
       "    </tr>\n",
       "  </thead>\n",
       "  <tbody>\n",
       "    <tr>\n",
       "      <th>end_lat</th>\n",
       "      <td>5844</td>\n",
       "      <td>0.1</td>\n",
       "      <td>float64</td>\n",
       "    </tr>\n",
       "    <tr>\n",
       "      <th>end_lng</th>\n",
       "      <td>5844</td>\n",
       "      <td>0.1</td>\n",
       "      <td>float64</td>\n",
       "    </tr>\n",
       "  </tbody>\n",
       "</table>\n",
       "</div>"
      ],
      "text/plain": [
       "         Valores Ausentes  % de Valores Ausentes    Dtype\n",
       "end_lat              5844                    0.1  float64\n",
       "end_lng              5844                    0.1  float64"
      ]
     },
     "execution_count": 37,
     "metadata": {},
     "output_type": "execute_result"
    }
   ],
   "source": [
    "valores_ausentes_coluna(dataset)"
   ]
  },
  {
   "cell_type": "code",
   "execution_count": 38,
   "id": "5e39db12",
   "metadata": {},
   "outputs": [],
   "source": [
    "# Drop de linhas com valores ausentes\n",
    "def func_drop_linhas_com_na(df):\n",
    "    \n",
    "    old = df.shape[0]\n",
    "    \n",
    "    df.dropna(inplace = True)\n",
    "    \n",
    "    new = df.shape[0]\n",
    "    \n",
    "    count = old - new\n",
    "    \n",
    "    print(f'{count} linhas contendo valores ausentes foram descartadas.')"
   ]
  },
  {
   "cell_type": "code",
   "execution_count": 39,
   "id": "159f1e2f",
   "metadata": {},
   "outputs": [
    {
     "name": "stdout",
     "output_type": "stream",
     "text": [
      "5844 linhas contendo valores ausentes foram descartadas.\n"
     ]
    }
   ],
   "source": [
    "func_drop_linhas_com_na(dataset)"
   ]
  },
  {
   "cell_type": "code",
   "execution_count": 40,
   "id": "c3986d4e",
   "metadata": {},
   "outputs": [
    {
     "name": "stdout",
     "output_type": "stream",
     "text": [
      "O dataset tem 16 colunas.\n",
      "Encontrado: 0 colunas que têm valores ausentes.\n"
     ]
    }
   ],
   "source": [
    "valores_ausentes_coluna(dataset)"
   ]
  },
  {
   "cell_type": "code",
   "execution_count": 41,
   "id": "1058ae4e",
   "metadata": {},
   "outputs": [
    {
     "data": {
      "text/html": [
       "<div>\n",
       "<style scoped>\n",
       "    .dataframe tbody tr th:only-of-type {\n",
       "        vertical-align: middle;\n",
       "    }\n",
       "\n",
       "    .dataframe tbody tr th {\n",
       "        vertical-align: top;\n",
       "    }\n",
       "\n",
       "    .dataframe thead th {\n",
       "        text-align: right;\n",
       "    }\n",
       "</style>\n",
       "<table border=\"1\" class=\"dataframe\">\n",
       "  <thead>\n",
       "    <tr style=\"text-align: right;\">\n",
       "      <th></th>\n",
       "      <th>ride_id</th>\n",
       "      <th>rideable_type</th>\n",
       "      <th>start_station_name</th>\n",
       "      <th>start_station_id</th>\n",
       "      <th>end_station_name</th>\n",
       "      <th>end_station_id</th>\n",
       "      <th>member_casual</th>\n",
       "    </tr>\n",
       "  </thead>\n",
       "  <tbody>\n",
       "    <tr>\n",
       "      <th>count</th>\n",
       "      <td>5822332</td>\n",
       "      <td>5822332</td>\n",
       "      <td>5822332</td>\n",
       "      <td>5822332</td>\n",
       "      <td>5822332</td>\n",
       "      <td>5822332</td>\n",
       "      <td>5822332</td>\n",
       "    </tr>\n",
       "    <tr>\n",
       "      <th>unique</th>\n",
       "      <td>5822332</td>\n",
       "      <td>3</td>\n",
       "      <td>1592</td>\n",
       "      <td>1303</td>\n",
       "      <td>1610</td>\n",
       "      <td>1310</td>\n",
       "      <td>2</td>\n",
       "    </tr>\n",
       "    <tr>\n",
       "      <th>top</th>\n",
       "      <td>620BC6107255BF4C</td>\n",
       "      <td>electric_bike</td>\n",
       "      <td>unknown</td>\n",
       "      <td>unknown</td>\n",
       "      <td>unknown</td>\n",
       "      <td>unknown</td>\n",
       "      <td>member</td>\n",
       "    </tr>\n",
       "    <tr>\n",
       "      <th>freq</th>\n",
       "      <td>1</td>\n",
       "      <td>2895208</td>\n",
       "      <td>895023</td>\n",
       "      <td>895023</td>\n",
       "      <td>952363</td>\n",
       "      <td>952363</td>\n",
       "      <td>3426260</td>\n",
       "    </tr>\n",
       "  </tbody>\n",
       "</table>\n",
       "</div>"
      ],
      "text/plain": [
       "                 ride_id  rideable_type start_station_name start_station_id  \\\n",
       "count            5822332        5822332            5822332          5822332   \n",
       "unique           5822332              3               1592             1303   \n",
       "top     620BC6107255BF4C  electric_bike            unknown          unknown   \n",
       "freq                   1        2895208             895023           895023   \n",
       "\n",
       "       end_station_name end_station_id member_casual  \n",
       "count           5822332        5822332       5822332  \n",
       "unique             1610           1310             2  \n",
       "top             unknown        unknown        member  \n",
       "freq             952363         952363       3426260  "
      ]
     },
     "execution_count": 41,
     "metadata": {},
     "output_type": "execute_result"
    }
   ],
   "source": [
    "# Resumo dados categoricos\n",
    "dataset.describe(include = 'string')"
   ]
  },
  {
   "cell_type": "code",
   "execution_count": 42,
   "id": "8aa41486",
   "metadata": {},
   "outputs": [
    {
     "data": {
      "text/html": [
       "<div>\n",
       "<style scoped>\n",
       "    .dataframe tbody tr th:only-of-type {\n",
       "        vertical-align: middle;\n",
       "    }\n",
       "\n",
       "    .dataframe tbody tr th {\n",
       "        vertical-align: top;\n",
       "    }\n",
       "\n",
       "    .dataframe thead th {\n",
       "        text-align: right;\n",
       "    }\n",
       "</style>\n",
       "<table border=\"1\" class=\"dataframe\">\n",
       "  <thead>\n",
       "    <tr style=\"text-align: right;\">\n",
       "      <th></th>\n",
       "      <th>dia_da_semana</th>\n",
       "      <th>start_lat</th>\n",
       "      <th>start_lng</th>\n",
       "      <th>end_lat</th>\n",
       "      <th>end_lng</th>\n",
       "      <th>Duracao_Passeio(Minutos)</th>\n",
       "      <th>month</th>\n",
       "    </tr>\n",
       "  </thead>\n",
       "  <tbody>\n",
       "    <tr>\n",
       "      <th>count</th>\n",
       "      <td>5.822332e+06</td>\n",
       "      <td>5.822332e+06</td>\n",
       "      <td>5.822332e+06</td>\n",
       "      <td>5.822332e+06</td>\n",
       "      <td>5.822332e+06</td>\n",
       "      <td>5.822332e+06</td>\n",
       "      <td>5.822332e+06</td>\n",
       "    </tr>\n",
       "    <tr>\n",
       "      <th>mean</th>\n",
       "      <td>4.116613e+00</td>\n",
       "      <td>4.764275e+15</td>\n",
       "      <td>-2.190625e+15</td>\n",
       "      <td>2.489603e+15</td>\n",
       "      <td>-1.198269e+15</td>\n",
       "      <td>1.679326e+01</td>\n",
       "      <td>7.218191e+00</td>\n",
       "    </tr>\n",
       "    <tr>\n",
       "      <th>std</th>\n",
       "      <td>2.019440e+00</td>\n",
       "      <td>1.237020e+16</td>\n",
       "      <td>3.784171e+15</td>\n",
       "      <td>9.196120e+15</td>\n",
       "      <td>2.989503e+15</td>\n",
       "      <td>6.390612e+01</td>\n",
       "      <td>2.579211e+00</td>\n",
       "    </tr>\n",
       "    <tr>\n",
       "      <th>min</th>\n",
       "      <td>1.000000e+00</td>\n",
       "      <td>4.164000e+01</td>\n",
       "      <td>-8.783325e+15</td>\n",
       "      <td>4.139000e+01</td>\n",
       "      <td>-8.777476e+15</td>\n",
       "      <td>0.000000e+00</td>\n",
       "      <td>1.000000e+00</td>\n",
       "    </tr>\n",
       "    <tr>\n",
       "      <th>25%</th>\n",
       "      <td>2.000000e+00</td>\n",
       "      <td>4.185680e+07</td>\n",
       "      <td>-8.766786e+14</td>\n",
       "      <td>4.196325e+06</td>\n",
       "      <td>-8.762769e+10</td>\n",
       "      <td>5.930000e+00</td>\n",
       "      <td>5.000000e+00</td>\n",
       "    </tr>\n",
       "    <tr>\n",
       "      <th>50%</th>\n",
       "      <td>4.000000e+00</td>\n",
       "      <td>4.193222e+07</td>\n",
       "      <td>-8.765975e+07</td>\n",
       "      <td>4.190322e+07</td>\n",
       "      <td>-8.764182e+07</td>\n",
       "      <td>1.048000e+01</td>\n",
       "      <td>7.000000e+00</td>\n",
       "    </tr>\n",
       "    <tr>\n",
       "      <th>75%</th>\n",
       "      <td>6.000000e+00</td>\n",
       "      <td>4.193669e+14</td>\n",
       "      <td>-8.759986e+07</td>\n",
       "      <td>4.188872e+10</td>\n",
       "      <td>-8.765114e+06</td>\n",
       "      <td>1.882000e+01</td>\n",
       "      <td>9.000000e+00</td>\n",
       "    </tr>\n",
       "    <tr>\n",
       "      <th>max</th>\n",
       "      <td>7.000000e+00</td>\n",
       "      <td>4.206483e+16</td>\n",
       "      <td>-8.752000e+01</td>\n",
       "      <td>4.206477e+16</td>\n",
       "      <td>-8.730000e+01</td>\n",
       "      <td>4.070502e+04</td>\n",
       "      <td>1.200000e+01</td>\n",
       "    </tr>\n",
       "  </tbody>\n",
       "</table>\n",
       "</div>"
      ],
      "text/plain": [
       "       dia_da_semana     start_lat     start_lng       end_lat       end_lng  \\\n",
       "count   5.822332e+06  5.822332e+06  5.822332e+06  5.822332e+06  5.822332e+06   \n",
       "mean    4.116613e+00  4.764275e+15 -2.190625e+15  2.489603e+15 -1.198269e+15   \n",
       "std     2.019440e+00  1.237020e+16  3.784171e+15  9.196120e+15  2.989503e+15   \n",
       "min     1.000000e+00  4.164000e+01 -8.783325e+15  4.139000e+01 -8.777476e+15   \n",
       "25%     2.000000e+00  4.185680e+07 -8.766786e+14  4.196325e+06 -8.762769e+10   \n",
       "50%     4.000000e+00  4.193222e+07 -8.765975e+07  4.190322e+07 -8.764182e+07   \n",
       "75%     6.000000e+00  4.193669e+14 -8.759986e+07  4.188872e+10 -8.765114e+06   \n",
       "max     7.000000e+00  4.206483e+16 -8.752000e+01  4.206477e+16 -8.730000e+01   \n",
       "\n",
       "       Duracao_Passeio(Minutos)         month  \n",
       "count              5.822332e+06  5.822332e+06  \n",
       "mean               1.679326e+01  7.218191e+00  \n",
       "std                6.390612e+01  2.579211e+00  \n",
       "min                0.000000e+00  1.000000e+00  \n",
       "25%                5.930000e+00  5.000000e+00  \n",
       "50%                1.048000e+01  7.000000e+00  \n",
       "75%                1.882000e+01  9.000000e+00  \n",
       "max                4.070502e+04  1.200000e+01  "
      ]
     },
     "execution_count": 42,
     "metadata": {},
     "output_type": "execute_result"
    }
   ],
   "source": [
    "# Resumo dados númericos\n",
    "dataset.describe()"
   ]
  },
  {
   "cell_type": "code",
   "execution_count": 43,
   "id": "6f603112-54d7-4f1e-be0f-f49f776c61c3",
   "metadata": {},
   "outputs": [],
   "source": [
    "# Usamos o método duplicated() para criar uma série de valores booleanos indicando duplicatas\n",
    "duplicatas = dataset.duplicated()"
   ]
  },
  {
   "cell_type": "code",
   "execution_count": 44,
   "id": "8ce70f01-4d6e-4a81-8eaa-ecf3052c7127",
   "metadata": {},
   "outputs": [
    {
     "data": {
      "text/html": [
       "<div>\n",
       "<style scoped>\n",
       "    .dataframe tbody tr th:only-of-type {\n",
       "        vertical-align: middle;\n",
       "    }\n",
       "\n",
       "    .dataframe tbody tr th {\n",
       "        vertical-align: top;\n",
       "    }\n",
       "\n",
       "    .dataframe thead th {\n",
       "        text-align: right;\n",
       "    }\n",
       "</style>\n",
       "<table border=\"1\" class=\"dataframe\">\n",
       "  <thead>\n",
       "    <tr style=\"text-align: right;\">\n",
       "      <th></th>\n",
       "      <th>ride_id</th>\n",
       "      <th>rideable_type</th>\n",
       "      <th>started_at</th>\n",
       "      <th>ended_at</th>\n",
       "      <th>dia_da_semana</th>\n",
       "      <th>start_station_name</th>\n",
       "      <th>start_station_id</th>\n",
       "      <th>end_station_name</th>\n",
       "      <th>end_station_id</th>\n",
       "      <th>start_lat</th>\n",
       "      <th>start_lng</th>\n",
       "      <th>end_lat</th>\n",
       "      <th>end_lng</th>\n",
       "      <th>member_casual</th>\n",
       "      <th>Duracao_Passeio(Minutos)</th>\n",
       "      <th>month</th>\n",
       "    </tr>\n",
       "  </thead>\n",
       "  <tbody>\n",
       "  </tbody>\n",
       "</table>\n",
       "</div>"
      ],
      "text/plain": [
       "Empty DataFrame\n",
       "Columns: [ride_id, rideable_type, started_at, ended_at, dia_da_semana, start_station_name, start_station_id, end_station_name, end_station_id, start_lat, start_lng, end_lat, end_lng, member_casual, Duracao_Passeio(Minutos), month]\n",
       "Index: []"
      ]
     },
     "execution_count": 44,
     "metadata": {},
     "output_type": "execute_result"
    }
   ],
   "source": [
    "# Exibe linhas que estão duplicadas\n",
    "dataset[duplicatas]"
   ]
  },
  {
   "cell_type": "markdown",
   "id": "da5132b9-b8c6-4602-be0e-c98b3dd6d558",
   "metadata": {},
   "source": [
    "### Análise de Outliers"
   ]
  },
  {
   "cell_type": "code",
   "execution_count": 53,
   "id": "c3ab67b1-b004-431c-bcde-e4c0a2ae1f6d",
   "metadata": {},
   "outputs": [
    {
     "data": {
      "image/png": "[encoded data removed]",
      "text/plain": [
       "<Figure size 576x576 with 1 Axes>"
      ]
     },
     "metadata": {
      "needs_background": "light"
     },
     "output_type": "display_data"
    }
   ],
   "source": [
    "# Boxplots\n",
    "plt.figure(figsize = (8, 8))\n",
    "sns.boxplot(x = 'member_casual', y = 'Duracao_Passeio(Minutos)', data=dataset)\n",
    "plt.xticks(rotation = 45)\n",
    "plt.title('Tipo de Membros Por Duração de Passeio')\n",
    "plt.show()"
   ]
  },
  {
   "cell_type": "code",
   "execution_count": 54,
   "id": "f0076f60-bad7-4bca-b424-0525266b5a43",
   "metadata": {},
   "outputs": [
    {
     "data": {
      "image/png": "[encoded data removed]",
      "text/plain": [
       "<Figure size 576x576 with 1 Axes>"
      ]
     },
     "metadata": {
      "needs_background": "light"
     },
     "output_type": "display_data"
    }
   ],
   "source": [
    "# Boxplots\n",
    "plt.figure(figsize = (8, 8))\n",
    "sns.boxplot(x = 'rideable_type', y = 'Duracao_Passeio(Minutos)', data=dataset)\n",
    "plt.xticks(rotation = 45)\n",
    "plt.title('Tipo de Bicicletas por Duração de Passeio')\n",
    "plt.show()"
   ]
  },
  {
   "cell_type": "code",
   "execution_count": 55,
   "id": "0480d923-fd68-4ead-8622-ef0a30ea19e1",
   "metadata": {},
   "outputs": [
    {
     "data": {
      "image/png": "[encoded data removed]",
      "text/plain": [
       "<Figure size 576x576 with 1 Axes>"
      ]
     },
     "metadata": {
      "needs_background": "light"
     },
     "output_type": "display_data"
    }
   ],
   "source": [
    "# Boxplots\n",
    "plt.figure(figsize = (8, 8))\n",
    "sns.boxplot(data = dataset['Duracao_Passeio(Minutos)'])\n",
    "plt.xticks(rotation = 45)\n",
    "plt.title('Duração de Passeio (Minutos)')\n",
    "plt.show()"
   ]
  },
  {
   "cell_type": "markdown",
   "id": "8cddfd9e-f50f-4301-bc4b-9f5a11bdd246",
   "metadata": {},
   "source": [
    "O gráfico de Boxplot ajuda na identificação de Outliers, nesse caso percebemos que há Outliers nas coluna de Duração de Passeio "
   ]
  },
  {
   "cell_type": "markdown",
   "id": "e6dd1eb7-4289-4e5f-adfc-21dd52648162",
   "metadata": {
    "tags": []
   },
   "source": [
    "## Tratando Outliers"
   ]
  },
  {
   "cell_type": "code",
   "execution_count": 58,
   "id": "c5620012-ee49-4379-900f-95deb838e299",
   "metadata": {},
   "outputs": [
    {
     "data": {
      "text/plain": [
       "12.89"
      ]
     },
     "execution_count": 58,
     "metadata": {},
     "output_type": "execute_result"
    }
   ],
   "source": [
    "# Calculando o IQR para a coluna de duração de passeio\n",
    "Q1 = dataset['Duracao_Passeio(Minutos)'].quantile(0.25)\n",
    "Q3 = dataset['Duracao_Passeio(Minutos)'].quantile(0.75)\n",
    "IQR = Q3 - Q1\n",
    "IQR"
   ]
  },
  {
   "cell_type": "code",
   "execution_count": 59,
   "id": "5c070731-4931-4e05-8e74-d95c32470619",
   "metadata": {},
   "outputs": [],
   "source": [
    "# Definindo os limites inferior e superior para identificar outliers\n",
    "limite_inferior = Q1 - 1.5 * IQR\n",
    "limite_superior = Q3 + 1.5 * IQR"
   ]
  },
  {
   "cell_type": "code",
   "execution_count": 63,
   "id": "75c93179-8ae1-4937-ba04-f488d5e8ff83",
   "metadata": {},
   "outputs": [
    {
     "data": {
      "text/plain": [
       "10.48"
      ]
     },
     "execution_count": 63,
     "metadata": {},
     "output_type": "execute_result"
    }
   ],
   "source": [
    "# Calculando a mediana da coluna de duração de passeio\n",
    "mediana_duração = dataset['Duracao_Passeio(Minutos)'].median()\n",
    "mediana_duração"
   ]
  },
  {
   "cell_type": "code",
   "execution_count": 64,
   "id": "75912c26-8739-488f-a87c-6a403a0609b4",
   "metadata": {},
   "outputs": [],
   "source": [
    "# Substituindo outliers pela mediana\n",
    "dataset['Duracao_Passeio(Minutos)'] = np.where(\n",
    "    (dataset['Duracao_Passeio(Minutos)'] < limite_inferior) | (dataset['Duracao_Passeio(Minutos)'] > limite_superior),\n",
    "    mediana_duração,\n",
    "    dataset['Duracao_Passeio(Minutos)']\n",
    ")"
   ]
  },
  {
   "cell_type": "markdown",
   "id": "a7f90dc0-b793-44aa-91e5-1f54a5e3a0dc",
   "metadata": {},
   "source": [
    "Usamos a Mediana para tratar outliers porque ela é menos sensível a valores extremos em comparação com a média. A média é fortemente influenciada pelos valores extremos, especialmente em conjuntos de dados pequenos, o que pode levar a distorções significativas nos resultados."
   ]
  },
  {
   "cell_type": "code",
   "execution_count": 65,
   "id": "4b3aa197-1567-4593-9dad-1727fe2431cc",
   "metadata": {},
   "outputs": [
    {
     "data": {
      "image/png": "[encoded data removed]",
      "text/plain": [
       "<Figure size 576x576 with 1 Axes>"
      ]
     },
     "metadata": {
      "needs_background": "light"
     },
     "output_type": "display_data"
    }
   ],
   "source": [
    "# Boxplots\n",
    "plt.figure(figsize = (8, 8))\n",
    "sns.boxplot(data = dataset['Duracao_Passeio(Minutos)'])\n",
    "plt.xticks(rotation = 45)\n",
    "plt.title('Duração de Passeio (Minutos)')\n",
    "plt.show()"
   ]
  },
  {
   "cell_type": "markdown",
   "id": "b2892143-179a-4475-846f-ebbaa3358b19",
   "metadata": {},
   "source": [
    "## Enriquecimento dos Dados"
   ]
  },
  {
   "cell_type": "code",
   "execution_count": 66,
   "id": "637d3981-f65a-44d1-ae53-a39ee7599ea5",
   "metadata": {},
   "outputs": [],
   "source": [
    "# Carregando dados com a média de temperatura de Chicago por mês\n",
    "mean_temp = pd.read_excel('mean_temp.xlsx')"
   ]
  },
  {
   "cell_type": "code",
   "execution_count": 67,
   "id": "8e7a6ea7-c5ed-4c30-8644-fd4ecf1f5d20",
   "metadata": {},
   "outputs": [
    {
     "data": {
      "text/html": [
       "<div>\n",
       "<style scoped>\n",
       "    .dataframe tbody tr th:only-of-type {\n",
       "        vertical-align: middle;\n",
       "    }\n",
       "\n",
       "    .dataframe tbody tr th {\n",
       "        vertical-align: top;\n",
       "    }\n",
       "\n",
       "    .dataframe thead th {\n",
       "        text-align: right;\n",
       "    }\n",
       "</style>\n",
       "<table border=\"1\" class=\"dataframe\">\n",
       "  <thead>\n",
       "    <tr style=\"text-align: right;\">\n",
       "      <th></th>\n",
       "      <th>month</th>\n",
       "      <th>mean_temp</th>\n",
       "    </tr>\n",
       "  </thead>\n",
       "  <tbody>\n",
       "    <tr>\n",
       "      <th>0</th>\n",
       "      <td>1</td>\n",
       "      <td>-3.8</td>\n",
       "    </tr>\n",
       "    <tr>\n",
       "      <th>1</th>\n",
       "      <td>2</td>\n",
       "      <td>-3.1</td>\n",
       "    </tr>\n",
       "    <tr>\n",
       "      <th>2</th>\n",
       "      <td>3</td>\n",
       "      <td>1.6</td>\n",
       "    </tr>\n",
       "    <tr>\n",
       "      <th>3</th>\n",
       "      <td>4</td>\n",
       "      <td>7.8</td>\n",
       "    </tr>\n",
       "    <tr>\n",
       "      <th>4</th>\n",
       "      <td>5</td>\n",
       "      <td>14.5</td>\n",
       "    </tr>\n",
       "    <tr>\n",
       "      <th>5</th>\n",
       "      <td>6</td>\n",
       "      <td>20.7</td>\n",
       "    </tr>\n",
       "    <tr>\n",
       "      <th>6</th>\n",
       "      <td>7</td>\n",
       "      <td>23.8</td>\n",
       "    </tr>\n",
       "    <tr>\n",
       "      <th>7</th>\n",
       "      <td>8</td>\n",
       "      <td>23.2</td>\n",
       "    </tr>\n",
       "    <tr>\n",
       "      <th>8</th>\n",
       "      <td>9</td>\n",
       "      <td>19.6</td>\n",
       "    </tr>\n",
       "    <tr>\n",
       "      <th>9</th>\n",
       "      <td>10</td>\n",
       "      <td>12.7</td>\n",
       "    </tr>\n",
       "    <tr>\n",
       "      <th>10</th>\n",
       "      <td>11</td>\n",
       "      <td>5.9</td>\n",
       "    </tr>\n",
       "    <tr>\n",
       "      <th>11</th>\n",
       "      <td>12</td>\n",
       "      <td>-0.5</td>\n",
       "    </tr>\n",
       "  </tbody>\n",
       "</table>\n",
       "</div>"
      ],
      "text/plain": [
       "    month  mean_temp\n",
       "0       1       -3.8\n",
       "1       2       -3.1\n",
       "2       3        1.6\n",
       "3       4        7.8\n",
       "4       5       14.5\n",
       "5       6       20.7\n",
       "6       7       23.8\n",
       "7       8       23.2\n",
       "8       9       19.6\n",
       "9      10       12.7\n",
       "10     11        5.9\n",
       "11     12       -0.5"
      ]
     },
     "execution_count": 67,
     "metadata": {},
     "output_type": "execute_result"
    }
   ],
   "source": [
    "mean_temp.head(12)"
   ]
  },
  {
   "cell_type": "code",
   "execution_count": 68,
   "id": "ca134636-bddc-46b4-9275-27c6ce3c851c",
   "metadata": {},
   "outputs": [],
   "source": [
    "# Mesclando os dados da média de temperatura no dataset pela coluna mês\n",
    "dataset = dataset.merge(mean_temp, on='month')"
   ]
  },
  {
   "cell_type": "code",
   "execution_count": 69,
   "id": "fdbed5ef-7abd-4eb9-a3b3-f3f18e2bffaf",
   "metadata": {},
   "outputs": [
    {
     "data": {
      "text/html": [
       "<div>\n",
       "<style scoped>\n",
       "    .dataframe tbody tr th:only-of-type {\n",
       "        vertical-align: middle;\n",
       "    }\n",
       "\n",
       "    .dataframe tbody tr th {\n",
       "        vertical-align: top;\n",
       "    }\n",
       "\n",
       "    .dataframe thead th {\n",
       "        text-align: right;\n",
       "    }\n",
       "</style>\n",
       "<table border=\"1\" class=\"dataframe\">\n",
       "  <thead>\n",
       "    <tr style=\"text-align: right;\">\n",
       "      <th></th>\n",
       "      <th>ride_id</th>\n",
       "      <th>rideable_type</th>\n",
       "      <th>started_at</th>\n",
       "      <th>ended_at</th>\n",
       "      <th>dia_da_semana</th>\n",
       "      <th>start_station_name</th>\n",
       "      <th>start_station_id</th>\n",
       "      <th>end_station_name</th>\n",
       "      <th>end_station_id</th>\n",
       "      <th>start_lat</th>\n",
       "      <th>start_lng</th>\n",
       "      <th>end_lat</th>\n",
       "      <th>end_lng</th>\n",
       "      <th>member_casual</th>\n",
       "      <th>Duracao_Passeio(Minutos)</th>\n",
       "      <th>month</th>\n",
       "      <th>mean_temp</th>\n",
       "    </tr>\n",
       "  </thead>\n",
       "  <tbody>\n",
       "    <tr>\n",
       "      <th>3679559</th>\n",
       "      <td>2AA6A8FF77977B27</td>\n",
       "      <td>docked_bike</td>\n",
       "      <td>2022-07-07 20:08:21</td>\n",
       "      <td>2022-07-07 20:50:50</td>\n",
       "      <td>5</td>\n",
       "      <td>Racine Ave &amp; Fullerton Ave</td>\n",
       "      <td>TA1306000026</td>\n",
       "      <td>Oakley Ave &amp; Irving Park Rd</td>\n",
       "      <td>KA1504000158</td>\n",
       "      <td>4.192556e+07</td>\n",
       "      <td>-8.765840e+07</td>\n",
       "      <td>41954341.00</td>\n",
       "      <td>-8768608.00</td>\n",
       "      <td>casual</td>\n",
       "      <td>10.48</td>\n",
       "      <td>7</td>\n",
       "      <td>23.8</td>\n",
       "    </tr>\n",
       "    <tr>\n",
       "      <th>1992876</th>\n",
       "      <td>527BD73A7D579C1F</td>\n",
       "      <td>electric_bike</td>\n",
       "      <td>2022-04-15 10:36:58</td>\n",
       "      <td>2022-04-15 10:46:43</td>\n",
       "      <td>6</td>\n",
       "      <td>Milwaukee Ave &amp; Wabansia Ave</td>\n",
       "      <td>13243</td>\n",
       "      <td>Wood St &amp; Chicago Ave</td>\n",
       "      <td>637</td>\n",
       "      <td>4.191268e+16</td>\n",
       "      <td>-8.768140e+07</td>\n",
       "      <td>41895634.00</td>\n",
       "      <td>-87672069.00</td>\n",
       "      <td>member</td>\n",
       "      <td>9.75</td>\n",
       "      <td>4</td>\n",
       "      <td>7.8</td>\n",
       "    </tr>\n",
       "    <tr>\n",
       "      <th>2330405</th>\n",
       "      <td>C069860094DD99A2</td>\n",
       "      <td>classic_bike</td>\n",
       "      <td>2022-05-08 13:52:06</td>\n",
       "      <td>2022-05-08 14:13:56</td>\n",
       "      <td>1</td>\n",
       "      <td>Desplaines St &amp; Kinzie St</td>\n",
       "      <td>TA1306000003</td>\n",
       "      <td>DuSable Lake Shore Dr &amp; Monroe St</td>\n",
       "      <td>13300</td>\n",
       "      <td>4.188872e+10</td>\n",
       "      <td>-8.764445e+11</td>\n",
       "      <td>41880958.00</td>\n",
       "      <td>-87616743.00</td>\n",
       "      <td>casual</td>\n",
       "      <td>21.83</td>\n",
       "      <td>5</td>\n",
       "      <td>14.5</td>\n",
       "    </tr>\n",
       "    <tr>\n",
       "      <th>1009665</th>\n",
       "      <td>52249C42F7C672E8</td>\n",
       "      <td>electric_bike</td>\n",
       "      <td>2021-12-31 11:59:29</td>\n",
       "      <td>2021-12-31 12:14:06</td>\n",
       "      <td>6</td>\n",
       "      <td>Manor Ave &amp; Leland Ave</td>\n",
       "      <td>KA1504000127</td>\n",
       "      <td>Southport Ave &amp; Waveland Ave</td>\n",
       "      <td>13235</td>\n",
       "      <td>4.196584e+08</td>\n",
       "      <td>-8.770086e+15</td>\n",
       "      <td>4194815.00</td>\n",
       "      <td>-8766394.00</td>\n",
       "      <td>casual</td>\n",
       "      <td>14.62</td>\n",
       "      <td>12</td>\n",
       "      <td>-0.5</td>\n",
       "    </tr>\n",
       "    <tr>\n",
       "      <th>2972171</th>\n",
       "      <td>E7EDBEAAC580E642</td>\n",
       "      <td>electric_bike</td>\n",
       "      <td>2022-06-17 13:23:23</td>\n",
       "      <td>2022-06-17 13:29:27</td>\n",
       "      <td>6</td>\n",
       "      <td>Paulina St &amp; 18th St</td>\n",
       "      <td>TA1307000159</td>\n",
       "      <td>unknown</td>\n",
       "      <td>unknown</td>\n",
       "      <td>4.185788e+15</td>\n",
       "      <td>-8.766868e+08</td>\n",
       "      <td>41.86</td>\n",
       "      <td>-87.65</td>\n",
       "      <td>member</td>\n",
       "      <td>6.07</td>\n",
       "      <td>6</td>\n",
       "      <td>20.7</td>\n",
       "    </tr>\n",
       "  </tbody>\n",
       "</table>\n",
       "</div>"
      ],
      "text/plain": [
       "                  ride_id  rideable_type          started_at  \\\n",
       "3679559  2AA6A8FF77977B27    docked_bike 2022-07-07 20:08:21   \n",
       "1992876  527BD73A7D579C1F  electric_bike 2022-04-15 10:36:58   \n",
       "2330405  C069860094DD99A2   classic_bike 2022-05-08 13:52:06   \n",
       "1009665  52249C42F7C672E8  electric_bike 2021-12-31 11:59:29   \n",
       "2972171  E7EDBEAAC580E642  electric_bike 2022-06-17 13:23:23   \n",
       "\n",
       "                   ended_at  dia_da_semana            start_station_name  \\\n",
       "3679559 2022-07-07 20:50:50              5    Racine Ave & Fullerton Ave   \n",
       "1992876 2022-04-15 10:46:43              6  Milwaukee Ave & Wabansia Ave   \n",
       "2330405 2022-05-08 14:13:56              1     Desplaines St & Kinzie St   \n",
       "1009665 2021-12-31 12:14:06              6        Manor Ave & Leland Ave   \n",
       "2972171 2022-06-17 13:29:27              6          Paulina St & 18th St   \n",
       "\n",
       "        start_station_id                   end_station_name end_station_id  \\\n",
       "3679559     TA1306000026        Oakley Ave & Irving Park Rd   KA1504000158   \n",
       "1992876            13243              Wood St & Chicago Ave            637   \n",
       "2330405     TA1306000003  DuSable Lake Shore Dr & Monroe St          13300   \n",
       "1009665     KA1504000127       Southport Ave & Waveland Ave          13235   \n",
       "2972171     TA1307000159                            unknown        unknown   \n",
       "\n",
       "            start_lat     start_lng      end_lat      end_lng member_casual  \\\n",
       "3679559  4.192556e+07 -8.765840e+07  41954341.00  -8768608.00        casual   \n",
       "1992876  4.191268e+16 -8.768140e+07  41895634.00 -87672069.00        member   \n",
       "2330405  4.188872e+10 -8.764445e+11  41880958.00 -87616743.00        casual   \n",
       "1009665  4.196584e+08 -8.770086e+15   4194815.00  -8766394.00        casual   \n",
       "2972171  4.185788e+15 -8.766868e+08        41.86       -87.65        member   \n",
       "\n",
       "         Duracao_Passeio(Minutos)  month  mean_temp  \n",
       "3679559                     10.48      7       23.8  \n",
       "1992876                      9.75      4        7.8  \n",
       "2330405                     21.83      5       14.5  \n",
       "1009665                     14.62     12       -0.5  \n",
       "2972171                      6.07      6       20.7  "
      ]
     },
     "execution_count": 69,
     "metadata": {},
     "output_type": "execute_result"
    }
   ],
   "source": [
    "dataset.sample(5)"
   ]
  },
  {
   "cell_type": "code",
   "execution_count": 70,
   "id": "040fb3e6-9399-4867-9dd2-3279ce5a156b",
   "metadata": {},
   "outputs": [
    {
     "name": "stdout",
     "output_type": "stream",
     "text": [
      "<class 'pandas.core.frame.DataFrame'>\n",
      "Int64Index: 5822332 entries, 0 to 5822331\n",
      "Data columns (total 17 columns):\n",
      " #   Column                    Dtype         \n",
      "---  ------                    -----         \n",
      " 0   ride_id                   string        \n",
      " 1   rideable_type             string        \n",
      " 2   started_at                datetime64[ns]\n",
      " 3   ended_at                  datetime64[ns]\n",
      " 4   dia_da_semana             int64         \n",
      " 5   start_station_name        string        \n",
      " 6   start_station_id          string        \n",
      " 7   end_station_name          string        \n",
      " 8   end_station_id            string        \n",
      " 9   start_lat                 float64       \n",
      " 10  start_lng                 float64       \n",
      " 11  end_lat                   float64       \n",
      " 12  end_lng                   float64       \n",
      " 13  member_casual             string        \n",
      " 14  Duracao_Passeio(Minutos)  float64       \n",
      " 15  month                     int64         \n",
      " 16  mean_temp                 float64       \n",
      "dtypes: datetime64[ns](2), float64(6), int64(2), string(7)\n",
      "memory usage: 799.6 MB\n"
     ]
    }
   ],
   "source": [
    "dataset.info()"
   ]
  },
  {
   "cell_type": "markdown",
   "id": "3f243026-e1ca-45f1-a4f1-29e6dffe50be",
   "metadata": {},
   "source": [
    "## Análise Estatística"
   ]
  },
  {
   "cell_type": "code",
   "execution_count": null,
   "id": "2fca7a42",
   "metadata": {},
   "outputs": [
    {
     "name": "stdout",
     "output_type": "stream",
     "text": [
      "Média de Duração de passeio por tipo de Membro: member_casual\n",
      "casual    13.293764\n",
      "member    10.812167\n",
      "Name: Duracao_Passeio(Minutos), dtype: float64 \n",
      "\n",
      "\n",
      "Mediana de Duração de passeio por tipo de Membro: member_casual\n",
      "casual    10.48\n",
      "member     8.88\n",
      "Name: Duracao_Passeio(Minutos), dtype: float64\n"
     ]
    }
   ],
   "source": [
    "# Média de duração de uso por membro\n",
    "media_passeio_por_membro = dataset.groupby('member_casual')['Duracao_Passeio(Minutos)'].mean()\n",
    "# Mediana de duração de uso por membro\n",
    "mediana_passeio_por_membro = dataset.groupby('member_casual')['Duracao_Passeio(Minutos)'].median()\n",
    "\n",
    "print('Média de Duração de passeio por tipo de Membro:', media_passeio_por_membro, '\\n\\n')\n",
    "print('Mediana de Duração de passeio por tipo de Membro:', mediana_passeio_por_membro)"
   ]
  },
  {
   "cell_type": "code",
   "execution_count": 73,
   "id": "e707be8c-7f1f-4ae9-b94d-bf983e956e0f",
   "metadata": {},
   "outputs": [
    {
     "data": {
      "image/png": "[encoded data removed]",
      "text/plain": [
       "<Figure size 576x432 with 1 Axes>"
      ]
     },
     "metadata": {
      "needs_background": "light"
     },
     "output_type": "display_data"
    }
   ],
   "source": [
    "# Média de Duração de Passeio Por Bicicleta\n",
    "plt.figure(figsize = (8, 6))\n",
    "media_passeio_por_membro.plot(kind='bar', color = 'steelblue')\n",
    "plt.ticklabel_format(style='plain', axis='y')\n",
    "plt.title('Média de Duração de Passeio Por Bicicleta')\n",
    "plt.xlabel('Tipo de Bicicleta')\n",
    "plt.ylabel('Duração Passeio')\n",
    "plt.xticks(rotation=0)\n",
    "plt.show()"
   ]
  },
  {
   "cell_type": "code",
   "execution_count": null,
   "id": "508adab2",
   "metadata": {},
   "outputs": [
    {
     "name": "stdout",
     "output_type": "stream",
     "text": [
      "Média de Duração de passeio por tipo de Bicicleta: rideable_type\n",
      "classic_bike     12.224101\n",
      "docked_bike      16.316377\n",
      "electric_bike    11.169986\n",
      "Name: Duracao_Passeio(Minutos), dtype: float64 \n",
      "\n",
      "\n",
      "Mediana de Duração de passeio por tipo de Bicicleta: rideable_type\n",
      "classic_bike     10.48\n",
      "docked_bike      11.42\n",
      "electric_bike     9.55\n",
      "Name: Duracao_Passeio(Minutos), dtype: float64\n"
     ]
    }
   ],
   "source": [
    "# Média de duração de uso por bike\n",
    "media_passeio_por_bike = dataset.groupby('rideable_type')['Duracao_Passeio(Minutos)'].mean()\n",
    "# Mediana de duração de uso por membro\n",
    "mediana_passeio_por_bike = dataset.groupby('member_casual')['Duracao_Passeio(Minutos)'].median()\n",
    "\n",
    "print('Média de Duração de passeio por tipo de Bicicleta:', media_passeio_por_bike, '\\n\\n')\n",
    "print('Mediana de Duração de passeio por tipo de Bicicleta:', mediana_passeio_por_bike)"
   ]
  },
  {
   "cell_type": "code",
   "execution_count": null,
   "id": "0f4ee894-c955-4460-b525-fb4f744d1aa8",
   "metadata": {},
   "outputs": [
    {
     "data": {
      "image/png": "[encoded data removed]",
      "text/plain": [
       "<Figure size 576x432 with 1 Axes>"
      ]
     },
     "metadata": {
      "needs_background": "light"
     },
     "output_type": "display_data"
    }
   ],
   "source": [
    "# Média de Duração de Passeio Por Bicicleta\n",
    "plt.figure(figsize = (8, 6))\n",
    "media_passeio_por_bike.plot(kind='bar', color = 'steelblue')\n",
    "plt.ticklabel_format(style='plain', axis='y')\n",
    "plt.title('Média de Duração de Passeio Por Bicicleta')\n",
    "plt.xlabel('Tipo de Bicicleta')\n",
    "plt.ylabel('Duração Passeio')\n",
    "plt.xticks(rotation=0)\n",
    "plt.show()"
   ]
  },
  {
   "cell_type": "code",
   "execution_count": 78,
   "id": "3062be0a-073d-4b61-b414-a63df76f14ea",
   "metadata": {},
   "outputs": [
    {
     "data": {
      "text/plain": [
       "member_casual\n",
       "casual    189924\n",
       "dtype: int64"
      ]
     },
     "execution_count": 78,
     "metadata": {},
     "output_type": "execute_result"
    }
   ],
   "source": [
    "# Quantidade de Utilização de bicilceta docked_bike por tipo de membro\n",
    "docked_bike = dataset[dataset['rideable_type'] == 'docked_bike']\n",
    "docked_bike = docked_bike.groupby('member_casual').size()\n",
    "docked_bike"
   ]
  },
  {
   "cell_type": "code",
   "execution_count": 205,
   "id": "340f21a4-275a-4162-8f4c-72346647c4dc",
   "metadata": {},
   "outputs": [
    {
     "data": {
      "text/plain": [
       "rideable_type\n",
       "classic_bike     38.15\n",
       "docked_bike      38.15\n",
       "electric_bike    38.15\n",
       "Name: Duracao_Passeio(Minutos), dtype: float64"
      ]
     },
     "execution_count": 205,
     "metadata": {},
     "output_type": "execute_result"
    }
   ],
   "source": [
    "# Verificando o maximo de duração de passeio por tipo de Bike\n",
    "maximo_passeio_por_bike = dataset.groupby('rideable_type')['Duracao_Passeio(Minutos)'].max()\n",
    "# Tranformando minutos em Dias\n",
    "maximo_passeio_por_bike = (maximo_passeio_por_bike)\n",
    "maximo_passeio_por_bike"
   ]
  },
  {
   "cell_type": "code",
   "execution_count": 94,
   "id": "3f7827d8-9212-4145-b5a5-efe06fff5c2e",
   "metadata": {},
   "outputs": [
    {
     "name": "stdout",
     "output_type": "stream",
     "text": [
      "A Média de Duração de passeio é: 11.83\n",
      "A Mediana de Duração de passeio é: 10.48\n"
     ]
    }
   ],
   "source": [
    "# Media e Mediana de Duração de Passeio\n",
    "media = round(dataset['Duracao_Passeio(Minutos)'].mean(),2)\n",
    "mediana = dataset['Duracao_Passeio(Minutos)'].median()\n",
    "\n",
    "print('A Média de Duração de passeio é:', media)\n",
    "print('A Mediana de Duração de passeio é:', mediana)"
   ]
  },
  {
   "cell_type": "markdown",
   "id": "828ebb2d-d02c-4d52-9c13-b613877a8e13",
   "metadata": {},
   "source": [
    "### Associação Entre Variáveis Quantitativas"
   ]
  },
  {
   "cell_type": "code",
   "execution_count": 95,
   "id": "4e8a203e-b280-43fa-93eb-03b7381f7569",
   "metadata": {},
   "outputs": [],
   "source": [
    "# Calculando a matriz de correlação apenas para variavéis quantitativas \"PERSON\"\n",
    "correlation_matriz = dataset[['dia_da_semana', 'Duracao_Passeio(Minutos)', 'mean_temp', 'month']].corr()"
   ]
  },
  {
   "cell_type": "code",
   "execution_count": 96,
   "id": "275d346b-99c0-44e1-9f70-0a56d3e25723",
   "metadata": {},
   "outputs": [
    {
     "data": {
      "image/png": "[encoded data removed]",
      "text/plain": [
       "<Figure size 576x576 with 2 Axes>"
      ]
     },
     "metadata": {
      "needs_background": "light"
     },
     "output_type": "display_data"
    }
   ],
   "source": [
    "#Visualizando a matriz de correlação com um heatmap\n",
    "plt.figure(figsize = (8, 8))\n",
    "sns.heatmap(correlation_matriz, annot = True, cmap = 'coolwarm', vmin = -1, vmax = 1)\n",
    "plt.title('Correlação entre variáveis Quantitativas')\n",
    "plt.show()"
   ]
  },
  {
   "cell_type": "code",
   "execution_count": 97,
   "id": "b1892d4d-03ac-4a48-b5bb-bf61849e748a",
   "metadata": {},
   "outputs": [
    {
     "data": {
      "text/plain": [
       "<Figure size 576x432 with 0 Axes>"
      ]
     },
     "metadata": {},
     "output_type": "display_data"
    },
    {
     "data": {
      "image/png": "[encoded data removed]",
      "text/plain": [
       "<Figure size 360x360 with 1 Axes>"
      ]
     },
     "metadata": {
      "needs_background": "light"
     },
     "output_type": "display_data"
    }
   ],
   "source": [
    "# Mês x Temperatura\n",
    "plt.figure(figsize = (8, 6))\n",
    "sns.lmplot(x='month', y='mean_temp', data=dataset, ci=None)\n",
    "plt.ticklabel_format(style='plain', axis='y')\n",
    "plt.title('Mês x Temperatura')\n",
    "plt.xlabel('Mês')\n",
    "plt.ylabel('Temperatura')\n",
    "plt.show()"
   ]
  },
  {
   "cell_type": "markdown",
   "id": "2ded2698-fdca-4614-a276-801da706ba3d",
   "metadata": {},
   "source": [
    "Uma correlação de 0.14 entre o mês e a temperatura média, sugere uma correlação positiva muito fraca entre essas duas variáveis. A correlação varia de -1 a 1.                                       \n",
    "No caso, 0.14 indica que há uma tendência muito leve de aumento ou diminuição da temperatura média com o passar dos meses, mas essa relação não é muito forte.\n",
    "\n",
    "É importante notar que correlação não implica causalidade. Ou seja, mesmo que haja uma correlação, não podemos afirmar que uma variável causa a outra. Pode haver outros fatores envolvidos."
   ]
  },
  {
   "cell_type": "markdown",
   "id": "7c1581a1-72a5-4a73-85dd-a479846a3eb0",
   "metadata": {},
   "source": [
    "### Associação Entre Variáveis Qualitativas"
   ]
  },
  {
   "cell_type": "code",
   "execution_count": 99,
   "id": "4458bbe0-7670-4970-9ace-18b00d81ad88",
   "metadata": {},
   "outputs": [],
   "source": [
    "# Tabela de Contigência\n",
    "tabela_contigencia = pd.crosstab(dataset['rideable_type'], dataset['member_casual'])"
   ]
  },
  {
   "cell_type": "code",
   "execution_count": 100,
   "id": "848513df-c2e4-426e-988a-72a4af0c2f39",
   "metadata": {},
   "outputs": [
    {
     "name": "stdout",
     "output_type": "stream",
     "text": [
      "member_casual   casual   member\n",
      "rideable_type                  \n",
      "classic_bike    938804  1798396\n",
      "docked_bike     189924        0\n",
      "electric_bike  1267344  1627864\n"
     ]
    }
   ],
   "source": [
    "print(tabela_contigencia)"
   ]
  },
  {
   "cell_type": "markdown",
   "id": "d6dcfe55-1021-4eae-aa56-9dc98e0c6bef",
   "metadata": {},
   "source": [
    "### Teste do Qui Quadrado (X²)\n",
    "\n",
    "O Teste do Qui-quadrado (chi-quadrado) é uma técnica estatística que é usada para determinar se há uma associação significativa entre duas variáveis categóricas em um conjunto de dados.\n",
    "\n",
    "Hipótese Nula (H0): A hipótese nula afirma que não há associação significativa entre as duas variáveis categóricas no conjunto de dados. Em outras palavras, as duas variáveis são independentes uma da outra.\n",
    "\n",
    "Hipótese Alternativa (H1 ou Ha): A hipótese alternativa é a negação da hipótese nula. Ela sugere que há uma associação significativa entre as duas variáveis categóricas no conjunto de dados. Em termos simples, as duas variáveis não são independentes.\n",
    "\n",
    "Aplicamos o teste e analisamos o valor-p. Se o valor-p for menor que um nível de significância (geralmente 0,05), podemos rejeitar a hipótese nula de que as variáveis são independentes."
   ]
  },
  {
   "cell_type": "code",
   "execution_count": 101,
   "id": "084edd31-8d8a-408e-88ac-1fc036b2105f",
   "metadata": {},
   "outputs": [],
   "source": [
    "# Carrega a função chi2_cotingency\n",
    "from scipy.stats import chi2_contingency"
   ]
  },
  {
   "cell_type": "code",
   "execution_count": 102,
   "id": "445bff28-0e0b-4477-ab11-b76e4c66e7fd",
   "metadata": {},
   "outputs": [],
   "source": [
    "# Aplica a função chi2_cotingency\n",
    "chi2, p, _, _ = chi2_contingency(tabela_contigencia)"
   ]
  },
  {
   "cell_type": "code",
   "execution_count": 103,
   "id": "d2a52451-4ee3-4f30-bf4f-b83c97ca71d2",
   "metadata": {},
   "outputs": [
    {
     "name": "stdout",
     "output_type": "stream",
     "text": [
      "Valor-p do teste Qui_quadrado: 0.0000\n"
     ]
    }
   ],
   "source": [
    "print(f\"Valor-p do teste Qui_quadrado: {p:.4f}\")"
   ]
  },
  {
   "cell_type": "markdown",
   "id": "abbf42df-5a0a-4429-bee4-f43d3035388b",
   "metadata": {},
   "source": [
    "### Coeficiente de Contingência de Cramér (V)\n",
    "\n",
    " Mede a força da associação entre duas variáveis nominais. Seu valor varia de 0 (sem associação) a 1 (associação perfeita). É baseado no valor do qui-quadrado."
   ]
  },
  {
   "cell_type": "code",
   "execution_count": 104,
   "id": "80752f06-79e2-4aa8-9330-7c11f100f4b7",
   "metadata": {},
   "outputs": [
    {
     "name": "stdout",
     "output_type": "stream",
     "text": [
      "5822332\n",
      "0.057177670547994705\n",
      "3 2\n",
      "Coeficiente de Cramér V: 0.2391\n"
     ]
    }
   ],
   "source": [
    "# Calculando o Coeficiente de Contingência de Cramér\n",
    "n = tabela_contigencia.sum().sum()\n",
    "print(n)\n",
    "phi2 = chi2 / n\n",
    "print(phi2)\n",
    "r, k = tabela_contigencia.shape\n",
    "print(r, k)\n",
    "cramers_v = np.sqrt(phi2 / min(r-1, k-1))\n",
    "print(f\"Coeficiente de Cramér V: {cramers_v:.4f}\")"
   ]
  },
  {
   "cell_type": "markdown",
   "id": "53ab012d-2037-4bb6-81da-fd4d202ec8b2",
   "metadata": {},
   "source": [
    "## Visualização dos Dados"
   ]
  },
  {
   "cell_type": "code",
   "execution_count": 105,
   "id": "f3aaa7a0-9116-4fc1-8444-26d48ab43dc0",
   "metadata": {},
   "outputs": [
    {
     "data": {
      "image/png": "[encoded data removed]",
      "text/plain": [
       "<Figure size 576x432 with 1 Axes>"
      ]
     },
     "metadata": {
      "needs_background": "light"
     },
     "output_type": "display_data"
    }
   ],
   "source": [
    "# Quantidade de uso de Bicicletas por Mês e Tipo de Membro\n",
    "plt.figure(figsize = (8, 6))\n",
    "sns.countplot(data = dataset, x = 'month', hue='member_casual')\n",
    "plt.ticklabel_format(style='plain', axis='y')\n",
    "plt.title('Quantidade de uso de Bicicletas por Mês e Tipo de Membro')\n",
    "plt.xlabel('Mês')\n",
    "plt.ylabel('Contagem')\n",
    "plt.show()"
   ]
  },
  {
   "cell_type": "code",
   "execution_count": 106,
   "id": "e0b44689-491f-4ffe-9e50-69bc0e74e2d1",
   "metadata": {},
   "outputs": [
    {
     "data": {
      "image/png": "[encoded data removed]",
      "text/plain": [
       "<Figure size 576x432 with 1 Axes>"
      ]
     },
     "metadata": {
      "needs_background": "light"
     },
     "output_type": "display_data"
    }
   ],
   "source": [
    "# Quantidade de uso de Bicicletas por Média Temperatura e Tipo de Membro\n",
    "plt.figure(figsize = (8, 6))\n",
    "sns.countplot(data = dataset, x = 'mean_temp', hue='member_casual')\n",
    "plt.ticklabel_format(style='plain', axis='y')\n",
    "plt.title('Quantidade de uso de Bicicletas por Temperatura e Tipo de Membro')\n",
    "plt.xlabel('Média Temperatura')\n",
    "plt.ylabel('Contagem')\n",
    "plt.show()"
   ]
  },
  {
   "cell_type": "code",
   "execution_count": 107,
   "id": "0f5d479e-23c6-4503-b0d8-c3e67a307ee5",
   "metadata": {},
   "outputs": [
    {
     "data": {
      "image/png": "[encoded data removed]",
      "text/plain": [
       "<Figure size 576x432 with 1 Axes>"
      ]
     },
     "metadata": {
      "needs_background": "light"
     },
     "output_type": "display_data"
    }
   ],
   "source": [
    "# Quantidade de uso de Bicicletas por Dia da Semana e Tipo de Membro\n",
    "plt.figure(figsize = (8, 6))\n",
    "sns.countplot(data = dataset, x = 'dia_da_semana', hue='member_casual')\n",
    "plt.ticklabel_format(style='plain', axis='y')\n",
    "plt.title('Quantidade de uso de Bicicletas por Dia da Semana e Tipo de Membro')\n",
    "plt.xlabel('Dia da Semana')\n",
    "plt.ylabel('Contagem')\n",
    "plt.show()"
   ]
  },
  {
   "cell_type": "code",
   "execution_count": 108,
   "id": "b1440e44-1bd3-44fa-a670-dc636fb91cef",
   "metadata": {},
   "outputs": [
    {
     "data": {
      "image/png": "[encoded data removed]",
      "text/plain": [
       "<Figure size 576x432 with 1 Axes>"
      ]
     },
     "metadata": {
      "needs_background": "light"
     },
     "output_type": "display_data"
    }
   ],
   "source": [
    "# Quantidade de uso de Bicicletas por Tipo de Bicicleta e Tipo de Membro\n",
    "plt.figure(figsize = (8, 6))\n",
    "sns.countplot(data = dataset, x = 'rideable_type', hue='member_casual')\n",
    "plt.ticklabel_format(style='plain', axis='y')\n",
    "plt.title('Quantidade de uso de Bicicletas por Tipo de Bicicleta e Tipo de Membro')\n",
    "plt.xlabel('Bicicleta')\n",
    "plt.ylabel('Contagem')\n",
    "plt.show()"
   ]
  },
  {
   "cell_type": "code",
   "execution_count": 109,
   "id": "9527a85b-1a12-4325-81b8-f70fb4d40551",
   "metadata": {},
   "outputs": [
    {
     "data": {
      "image/png": "[encoded data removed]",
      "text/plain": [
       "<Figure size 576x432 with 1 Axes>"
      ]
     },
     "metadata": {
      "needs_background": "light"
     },
     "output_type": "display_data"
    }
   ],
   "source": [
    "# Duração de Passeio Por Média Temperatura e Tipo de Membro\n",
    "plt.figure(figsize = (8, 6))\n",
    "sns.lineplot (data = dataset, x = 'mean_temp', y = 'Duracao_Passeio(Minutos)', hue='member_casual')\n",
    "plt.ticklabel_format(style='plain', axis='y')\n",
    "plt.title('Duração de Passeio Por Média Temperatura e Tipo de Membro')\n",
    "plt.xlabel('Média Temperatura')\n",
    "plt.ylabel('Duração de Passeio')\n",
    "plt.show()"
   ]
  },
  {
   "cell_type": "code",
   "execution_count": 114,
   "id": "f32bdce2-0493-4c5b-b46a-38efd5bc32f5",
   "metadata": {},
   "outputs": [
    {
     "data": {
      "image/png": "[encoded data removed]",
      "text/plain": [
       "<Figure size 576x576 with 1 Axes>"
      ]
     },
     "metadata": {
      "needs_background": "light"
     },
     "output_type": "display_data"
    }
   ],
   "source": [
    "# Uso de Bicicleta por média de temperatura\n",
    "plt.figure(figsize = (8, 8))\n",
    "sns.boxplot(x = 'rideable_type', y = 'mean_temp', data=dataset)\n",
    "plt.xticks(rotation = 45)\n",
    "plt.title('Uso de Bicicletas por Média de Temperatura')\n",
    "plt.show()"
   ]
  },
  {
   "cell_type": "code",
   "execution_count": 113,
   "id": "46c70d8f-3b6d-4cdf-bd6c-97f16d3f1c0d",
   "metadata": {},
   "outputs": [
    {
     "data": {
      "image/png": "[encoded data removed]",
      "text/plain": [
       "<Figure size 576x432 with 1 Axes>"
      ]
     },
     "metadata": {
      "needs_background": "light"
     },
     "output_type": "display_data"
    }
   ],
   "source": [
    "# Duração de Passeio Por Dia da Semana e Tipo de Membro\n",
    "plt.figure(figsize = (8, 6))\n",
    "sns.barplot(data = dataset, x = 'dia_da_semana', y = 'Duracao_Passeio(Minutos)', hue='member_casual')\n",
    "plt.ticklabel_format(style='plain', axis='y')\n",
    "plt.title('Quantidade Duração de Passeio Por Dia da Semana e Tipo de Membro')\n",
    "plt.xlabel('Dia da Semana')\n",
    "plt.ylabel('Duração de Passeio')\n",
    "plt.show()"
   ]
  },
  {
   "cell_type": "code",
   "execution_count": 137,
   "id": "505931e0-7be4-4d15-901c-73d17959f31b",
   "metadata": {},
   "outputs": [
    {
     "data": {
      "image/png": "[encoded data removed]",
      "text/plain": [
       "<Figure size 576x432 with 1 Axes>"
      ]
     },
     "metadata": {
      "needs_background": "light"
     },
     "output_type": "display_data"
    }
   ],
   "source": [
    "# Duração de Passeio Por Mês e Tipo de Membro\n",
    "plt.figure(figsize = (8, 6))\n",
    "sns.barplot(data = dataset, x = 'month', y = 'Duracao_Passeio(Minutos)', hue='member_casual')\n",
    "plt.ticklabel_format(style='plain', axis='y')\n",
    "plt.title('Duração de Passeio Por Mês e Tipo de Membro')\n",
    "plt.xlabel('Mês')\n",
    "plt.ylabel('Duração de Passeio')\n",
    "plt.show()"
   ]
  },
  {
   "cell_type": "code",
   "execution_count": 133,
   "id": "6a93c900-8556-4226-bd67-2db90f996617",
   "metadata": {},
   "outputs": [
    {
     "data": {
      "image/png": "[encoded data removed]",
      "text/plain": [
       "<Figure size 864x432 with 1 Axes>"
      ]
     },
     "metadata": {
      "needs_background": "light"
     },
     "output_type": "display_data"
    }
   ],
   "source": [
    "# Media de Duração de Passeio por Mês\n",
    "\n",
    "# Agrupando por mês e calculando a média da duração do passeio\n",
    "media_por_mes = dataset.groupby(dataset['started_at'].dt.to_period(\"M\"))['Duracao_Passeio(Minutos)'].mean()\n",
    "\n",
    "# Criando o gráfico de linha\n",
    "plt.figure(figsize=(12, 6))\n",
    "media_por_mes.plot(marker='o')\n",
    "plt.title('Média da Duração do Passeio ao Longo do Tempo')\n",
    "plt.xlabel('Mês')\n",
    "plt.ylabel('Média de Duração do Passeio (minutos)')\n",
    "plt.show()"
   ]
  },
  {
   "cell_type": "code",
   "execution_count": 138,
   "id": "c9743165-9964-4194-9d83-67c98b1cf27d",
   "metadata": {},
   "outputs": [
    {
     "data": {
      "image/png": "[encoded data removed]",
      "text/plain": [
       "<Figure size 864x432 with 1 Axes>"
      ]
     },
     "metadata": {
      "needs_background": "light"
     },
     "output_type": "display_data"
    }
   ],
   "source": [
    "# Media de Duração de Passeio por Dia da Semana\n",
    "\n",
    "# Agrupando por mês e calculando a média da duração do passeio\n",
    "media_por_mes = dataset.groupby(dataset['dia_da_semana'])['Duracao_Passeio(Minutos)'].mean()\n",
    "\n",
    "# Criando o gráfico de linha\n",
    "plt.figure(figsize=(12, 6))\n",
    "media_por_mes.plot(marker='o')\n",
    "plt.title('Média de Duração do Passeio ao Longo da Semana')\n",
    "plt.xlabel('Dia da Semana')\n",
    "plt.ylabel('Média de Duração do Passeio (minutos)')\n",
    "plt.show()"
   ]
  },
  {
   "cell_type": "code",
   "execution_count": 148,
   "id": "5b5a542d-ab38-49f8-bec7-873d02a24ce5",
   "metadata": {},
   "outputs": [
    {
     "data": {
      "image/png": "[encoded data removed]",
      "text/plain": [
       "<Figure size 576x576 with 1 Axes>"
      ]
     },
     "metadata": {
      "needs_background": "light"
     },
     "output_type": "display_data"
    }
   ],
   "source": [
    "# Filtrando os dados para excluir locais marcados como \"unknown\"\n",
    "dados_locais_start = dataset[dataset['start_station_name'] != 'unknown']\n",
    "\n",
    "# Agrupando por start_station e colocando de ordem crescente\n",
    "start_station = dados_locais_start.groupby('start_station_name').size().sort_values( ascending=False)\n",
    "\n",
    "# 20 Primeiras Start Stations\n",
    "plt.figure(figsize = (8, 8))\n",
    "start_station.head(20).plot.barh(color = 'Steelblue')\n",
    "plt.title('Start Station')\n",
    "plt.xlabel('Contagem')\n",
    "plt.ylabel('Staion')\n",
    "plt.show()"
   ]
  },
  {
   "cell_type": "code",
   "execution_count": 149,
   "id": "9b7c740d-d2da-4ae5-ad6d-dc6a93adc3bb",
   "metadata": {},
   "outputs": [
    {
     "data": {
      "image/png": "[encoded data removed]",
      "text/plain": [
       "<Figure size 576x576 with 1 Axes>"
      ]
     },
     "metadata": {
      "needs_background": "light"
     },
     "output_type": "display_data"
    }
   ],
   "source": [
    "# Filtrando os dados para excluir locais marcados como \"unknown\"\n",
    "dados_locais_end = dataset[dataset['end_station_name'] != 'unknown']\n",
    "\n",
    "# Agrupando por start_station e colocando de ordem crescente\n",
    "end_station = dados_locais_end.groupby('end_station_name').size().sort_values( ascending=False)\n",
    "\n",
    "# 20 Primeiras End Stations\n",
    "\n",
    "plt.figure(figsize = (8, 8))\n",
    "end_station.head(20).plot.barh(color = 'Steelblue')\n",
    "plt.title('End Station')\n",
    "plt.xlabel('Contagem')\n",
    "plt.ylabel('Staion')\n",
    "plt.show()"
   ]
  },
  {
   "cell_type": "markdown",
   "id": "23930f3c-ce6a-493a-8eeb-ca131da17cec",
   "metadata": {},
   "source": [
    "## Respostas - Problema de Negócio"
   ]
  },
  {
   "cell_type": "markdown",
   "id": "d723f98f-ab62-4de6-9af2-94f62797f366",
   "metadata": {
    "jp-MarkdownHeadingCollapsed": true,
    "tags": []
   },
   "source": [
    "Três perguntas nortearão o futuro programa de marketing:\n",
    "\n",
    "1 - Como os membros anuais e os ciclistas casuais usam bicicletas da Cyclistic de forma diferente?\n",
    "\n",
    "\n",
    "- Resposta: A Análise de Dados sugere que há diferença no uso das bicicletas por tipo de membros.\n",
    "\n",
    "  Membros Anuais utilizam as bicicletas em maior quantidade principalmente as bicicletas clássicas e elétricas, seu uso está concentrado principalmente nos dias úteis da semana.\n",
    "  \n",
    "  Membros Casuais utilizam as bicicletas por maior média de tempo, sua frequência de uso aumenta aos finais de semana, outro fator relevante é que as bicicletas de carga são alugadas somente por membros casuais.\n",
    "          \n",
    "\n",
    "\n",
    "2 - Por que os passageiros casuais iriam querer adquirir planos anuais da Cyclistic?\n",
    "\n",
    "- Resposta: Temos alguns indicadores relevantes na utilização das bicicletas por membros casuais: Tem a maior média de duração de uso das bicicletas em relação aos membros anuais, as bicicletas de carga foram alugadas apenas por membros casuais, o aumento do aluguel das bicicletas aos finais de semana, com base nessas informações a Cyclistic poderia realizar um plano de ação para  fidelizar esses clientes casuais.\n",
    "\n",
    "\n",
    "\n",
    "3 - Como a Cyclistic pode usar a mídia digital para influenciar os passageiros casuais a se tornarem membros?\n",
    "\n",
    "- Resposta: Identificamos alguns pontos que podem influenciar a campanha de mídia digital:\n",
    "\n",
    "  As 5 principais estações de retirada e entrega de bicicleta com maior quantidade de aluguel são similares.\n",
    "  \n",
    "  O período que há maior quantidade de aluguel de bicicletas tem a média da temperatura acima de 12.7 °, o aluguel de bicicleta aumenta nos meses de maio a outubro.\n",
    "  \n",
    "  Realizar promoções de uso para aluguel de bicicleta de carga.\n",
    "  \n",
    "  Realizar promoções para uso das bicicletas aos finais de semana.\n",
    "  \n",
    "  Desconto na utilização das bicicletas com duração acima de 30 minutos.\n",
    "\n",
    "  A  mídia digital poderia focar nessas pontos para influenciar os passageiros casuais a se tornarem membros."
   ]
  }
 ],
 "metadata": {
  "kernelspec": {
   "display_name": "Python 3 (ipykernel)",
   "language": "python",
   "name": "python3"
  },
  "language_info": {
   "codemirror_mode": {
    "name": "ipython",
    "version": 3
   },
   "file_extension": ".py",
   "mimetype": "text/x-python",
   "name": "python",
   "nbconvert_exporter": "python",
   "pygments_lexer": "ipython3",
   "version": "3.9.12"
  }
 },
 "nbformat": 4,
 "nbformat_minor": 5
}
